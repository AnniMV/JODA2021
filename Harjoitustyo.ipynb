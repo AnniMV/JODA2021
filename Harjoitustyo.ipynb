{
  "nbformat": 4,
  "nbformat_minor": 0,
  "metadata": {
    "colab": {
      "name": "Harjoitustyo.ipynb",
      "provenance": [],
      "toc_visible": true,
      "authorship_tag": "ABX9TyPWCsghOp3J5khVISNWBWRT",
      "include_colab_link": true
    },
    "kernelspec": {
      "name": "python3",
      "display_name": "Python 3"
    },
    "language_info": {
      "name": "python"
    }
  },
  "cells": [
    {
      "cell_type": "markdown",
      "metadata": {
        "id": "view-in-github",
        "colab_type": "text"
      },
      "source": [
        "<a href=\"https://colab.research.google.com/github/AnniMV/JODA2021/blob/main/Harjoitustyo.ipynb\" target=\"_parent\"><img src=\"https://colab.research.google.com/assets/colab-badge.svg\" alt=\"Open In Colab\"/></a>"
      ]
    },
    {
      "cell_type": "markdown",
      "metadata": {
        "id": "YNXsVpwtHikS"
      },
      "source": [
        "#Johdanto datatieteeseen - Harjoitustyö\n",
        "\n",
        "Johdanto datatieteeseen -harjoitustyössä käydään läpi datatiedeprojektin keskeiset vaiheet. Tässä harjoitustyössä käytetään Bondoran lainadatasettiä, josta tehdään analyysi kuvailemalla vaiheita datan jalostamisesta raporttiin."
      ]
    },
    {
      "cell_type": "markdown",
      "metadata": {
        "id": "oFvk-Y1WK1kD"
      },
      "source": [
        "## Kehitysympäristö\n",
        "Kehitysympäristönä toimii Googlen Colab notebook.\n",
        "\n",
        "Colabin käytön voi aloittaa kirjautumalla Google-tunnuksilla osoitteessa https://colab.research.google.com. Työkirjat tallentuvat Google Drive pilvipalveluun, ja omia tiedostoja voi myös käyttää tätä kautta."
      ]
    },
    {
      "cell_type": "markdown",
      "metadata": {
        "id": "WYt_xSbAMgsc"
      },
      "source": [
        "##Datan kerääminen\n",
        "Analyysissä käytetään Bondoran tarjoamaa Loan datasettiä, joka on ladattavissa osoitteesta https://www.bondora.com/en/public-reports, \"Loan dataset\". Se tarjoaa ajantasaisen ja laajan datasetin lainadatasta. Sivusto sisältää myöskin datan kuvailun, mistä nähdään kunkin muuttujan kuvaus.\n",
        "\n",
        "Ladatun datan voi tallentaa esimerkiksi omaan Google Driveen ja lukea sen sieltä seuraavasti, (muuta oma hakemisto):"
      ]
    },
    {
      "cell_type": "code",
      "metadata": {
        "colab": {
          "base_uri": "https://localhost:8080/"
        },
        "id": "--dNL9QnM5Rr",
        "outputId": "b8f0f051-2083-49f4-e572-8a01be23b30f"
      },
      "source": [
        "from google.colab import drive\n",
        "drive.mount('/content/drive')\n"
      ],
      "execution_count": 1,
      "outputs": [
        {
          "output_type": "stream",
          "text": [
            "Mounted at /content/drive\n"
          ],
          "name": "stdout"
        }
      ]
    },
    {
      "cell_type": "code",
      "metadata": {
        "id": "gqqpLMkj-5mz"
      },
      "source": [
        "import pandas as pd\n",
        "import numpy as np\n",
        "from sklearn import preprocessing\n",
        "from sklearn.impute import SimpleImputer\n",
        "from sklearn.model_selection import train_test_split\n",
        "from sklearn.tree import DecisionTreeClassifier\n",
        "from sklearn.linear_model import SGDClassifier, LogisticRegression\n",
        "from sklearn.svm import SVC\n",
        "from sklearn.metrics import accuracy_score\n",
        "import matplotlib.pyplot as plt"
      ],
      "execution_count": 2,
      "outputs": []
    },
    {
      "cell_type": "code",
      "metadata": {
        "colab": {
          "base_uri": "https://localhost:8080/",
          "height": 542
        },
        "id": "DLLUqp-daraW",
        "outputId": "8d99c5e6-e9bb-4094-b006-2588d421ab4f"
      },
      "source": [
        "df=pd.read_csv('/content/drive/My Drive/Colab Notebooks/LoanData.csv')\n",
        "df.head()"
      ],
      "execution_count": 3,
      "outputs": [
        {
          "output_type": "stream",
          "text": [
            "/usr/local/lib/python3.7/dist-packages/IPython/core/interactiveshell.py:2718: DtypeWarning: Columns (34,38,80,82,83,89,90) have mixed types.Specify dtype option on import or set low_memory=False.\n",
            "  interactivity=interactivity, compiler=compiler, result=result)\n"
          ],
          "name": "stderr"
        },
        {
          "output_type": "execute_result",
          "data": {
            "text/html": [
              "<div>\n",
              "<style scoped>\n",
              "    .dataframe tbody tr th:only-of-type {\n",
              "        vertical-align: middle;\n",
              "    }\n",
              "\n",
              "    .dataframe tbody tr th {\n",
              "        vertical-align: top;\n",
              "    }\n",
              "\n",
              "    .dataframe thead th {\n",
              "        text-align: right;\n",
              "    }\n",
              "</style>\n",
              "<table border=\"1\" class=\"dataframe\">\n",
              "  <thead>\n",
              "    <tr style=\"text-align: right;\">\n",
              "      <th></th>\n",
              "      <th>ReportAsOfEOD</th>\n",
              "      <th>LoanId</th>\n",
              "      <th>LoanNumber</th>\n",
              "      <th>ListedOnUTC</th>\n",
              "      <th>BiddingStartedOn</th>\n",
              "      <th>BidsPortfolioManager</th>\n",
              "      <th>BidsApi</th>\n",
              "      <th>BidsManual</th>\n",
              "      <th>UserName</th>\n",
              "      <th>NewCreditCustomer</th>\n",
              "      <th>LoanApplicationStartedDate</th>\n",
              "      <th>LoanDate</th>\n",
              "      <th>ContractEndDate</th>\n",
              "      <th>FirstPaymentDate</th>\n",
              "      <th>MaturityDate_Original</th>\n",
              "      <th>MaturityDate_Last</th>\n",
              "      <th>ApplicationSignedHour</th>\n",
              "      <th>ApplicationSignedWeekday</th>\n",
              "      <th>VerificationType</th>\n",
              "      <th>LanguageCode</th>\n",
              "      <th>Age</th>\n",
              "      <th>DateOfBirth</th>\n",
              "      <th>Gender</th>\n",
              "      <th>Country</th>\n",
              "      <th>AppliedAmount</th>\n",
              "      <th>Amount</th>\n",
              "      <th>Interest</th>\n",
              "      <th>LoanDuration</th>\n",
              "      <th>MonthlyPayment</th>\n",
              "      <th>County</th>\n",
              "      <th>City</th>\n",
              "      <th>UseOfLoan</th>\n",
              "      <th>Education</th>\n",
              "      <th>MaritalStatus</th>\n",
              "      <th>NrOfDependants</th>\n",
              "      <th>EmploymentStatus</th>\n",
              "      <th>EmploymentDurationCurrentEmployer</th>\n",
              "      <th>EmploymentPosition</th>\n",
              "      <th>WorkExperience</th>\n",
              "      <th>OccupationArea</th>\n",
              "      <th>...</th>\n",
              "      <th>EAD2</th>\n",
              "      <th>PrincipalRecovery</th>\n",
              "      <th>InterestRecovery</th>\n",
              "      <th>RecoveryStage</th>\n",
              "      <th>StageActiveSince</th>\n",
              "      <th>ModelVersion</th>\n",
              "      <th>Rating</th>\n",
              "      <th>EL_V0</th>\n",
              "      <th>Rating_V0</th>\n",
              "      <th>EL_V1</th>\n",
              "      <th>Rating_V1</th>\n",
              "      <th>Rating_V2</th>\n",
              "      <th>Status</th>\n",
              "      <th>Restructured</th>\n",
              "      <th>ActiveLateCategory</th>\n",
              "      <th>WorseLateCategory</th>\n",
              "      <th>CreditScoreEsMicroL</th>\n",
              "      <th>CreditScoreEsEquifaxRisk</th>\n",
              "      <th>CreditScoreFiAsiakasTietoRiskGrade</th>\n",
              "      <th>CreditScoreEeMini</th>\n",
              "      <th>PrincipalPaymentsMade</th>\n",
              "      <th>InterestAndPenaltyPaymentsMade</th>\n",
              "      <th>PrincipalWriteOffs</th>\n",
              "      <th>InterestAndPenaltyWriteOffs</th>\n",
              "      <th>PrincipalBalance</th>\n",
              "      <th>InterestAndPenaltyBalance</th>\n",
              "      <th>NoOfPreviousLoansBeforeLoan</th>\n",
              "      <th>AmountOfPreviousLoansBeforeLoan</th>\n",
              "      <th>PreviousRepaymentsBeforeLoan</th>\n",
              "      <th>PreviousEarlyRepaymentsBefoleLoan</th>\n",
              "      <th>PreviousEarlyRepaymentsCountBeforeLoan</th>\n",
              "      <th>GracePeriodStart</th>\n",
              "      <th>GracePeriodEnd</th>\n",
              "      <th>NextPaymentDate</th>\n",
              "      <th>NextPaymentNr</th>\n",
              "      <th>NrOfScheduledPayments</th>\n",
              "      <th>ReScheduledOn</th>\n",
              "      <th>PrincipalDebtServicingCost</th>\n",
              "      <th>InterestAndPenaltyDebtServicingCost</th>\n",
              "      <th>ActiveLateLastPaymentCategory</th>\n",
              "    </tr>\n",
              "  </thead>\n",
              "  <tbody>\n",
              "    <tr>\n",
              "      <th>0</th>\n",
              "      <td>2021-04-21</td>\n",
              "      <td>66AE108B-532B-4BB3-BAB7-0019A46412C1</td>\n",
              "      <td>483449</td>\n",
              "      <td>2016-03-23 16:07:19</td>\n",
              "      <td>2016-03-23 16:07:19</td>\n",
              "      <td>970.0</td>\n",
              "      <td>1150.0</td>\n",
              "      <td>5.0</td>\n",
              "      <td>BO965519</td>\n",
              "      <td>False</td>\n",
              "      <td>2016-03-17 12:39:22</td>\n",
              "      <td>2016-03-23</td>\n",
              "      <td>2020-06-26</td>\n",
              "      <td>2016-05-12</td>\n",
              "      <td>2021-04-12</td>\n",
              "      <td>2020-06-26</td>\n",
              "      <td>17</td>\n",
              "      <td>4</td>\n",
              "      <td>4.0</td>\n",
              "      <td>1</td>\n",
              "      <td>53</td>\n",
              "      <td>NaN</td>\n",
              "      <td>1.0</td>\n",
              "      <td>EE</td>\n",
              "      <td>2125.0</td>\n",
              "      <td>2125.0</td>\n",
              "      <td>20.97</td>\n",
              "      <td>60</td>\n",
              "      <td>62.05</td>\n",
              "      <td>NaN</td>\n",
              "      <td>NaN</td>\n",
              "      <td>2</td>\n",
              "      <td>4.0</td>\n",
              "      <td>2.0</td>\n",
              "      <td>0</td>\n",
              "      <td>6.0</td>\n",
              "      <td>MoreThan5Years</td>\n",
              "      <td>NaN</td>\n",
              "      <td>15To25Years</td>\n",
              "      <td>1.0</td>\n",
              "      <td>...</td>\n",
              "      <td>64.07</td>\n",
              "      <td>85.96</td>\n",
              "      <td>0.0</td>\n",
              "      <td>2.0</td>\n",
              "      <td>2020-03-03 09:27:48.493000000</td>\n",
              "      <td>2.0</td>\n",
              "      <td>C</td>\n",
              "      <td>NaN</td>\n",
              "      <td>NaN</td>\n",
              "      <td>NaN</td>\n",
              "      <td>NaN</td>\n",
              "      <td>C</td>\n",
              "      <td>Late</td>\n",
              "      <td>False</td>\n",
              "      <td>180+</td>\n",
              "      <td>180+</td>\n",
              "      <td>NaN</td>\n",
              "      <td>NaN</td>\n",
              "      <td>NaN</td>\n",
              "      <td>1000.0</td>\n",
              "      <td>958.98</td>\n",
              "      <td>1187.91</td>\n",
              "      <td>0.00</td>\n",
              "      <td>0.00</td>\n",
              "      <td>1166.02</td>\n",
              "      <td>378.30</td>\n",
              "      <td>1</td>\n",
              "      <td>500.0</td>\n",
              "      <td>590.95</td>\n",
              "      <td>0.0</td>\n",
              "      <td>0</td>\n",
              "      <td>2019-10-28</td>\n",
              "      <td>2020-01-27</td>\n",
              "      <td>NaN</td>\n",
              "      <td>NaN</td>\n",
              "      <td>NaN</td>\n",
              "      <td>NaN</td>\n",
              "      <td>0.00</td>\n",
              "      <td>46.24</td>\n",
              "      <td>8-15</td>\n",
              "    </tr>\n",
              "    <tr>\n",
              "      <th>1</th>\n",
              "      <td>2021-04-21</td>\n",
              "      <td>D152382E-A50D-46ED-8FF2-0053E0C86A70</td>\n",
              "      <td>378148</td>\n",
              "      <td>2015-06-25 11:02:28</td>\n",
              "      <td>2015-06-25 11:02:28</td>\n",
              "      <td>1295.0</td>\n",
              "      <td>0.0</td>\n",
              "      <td>1705.0</td>\n",
              "      <td>BOA9K172A</td>\n",
              "      <td>False</td>\n",
              "      <td>2015-06-24 12:36:16</td>\n",
              "      <td>2015-06-25</td>\n",
              "      <td>NaN</td>\n",
              "      <td>2015-08-17</td>\n",
              "      <td>2020-07-17</td>\n",
              "      <td>2020-07-17</td>\n",
              "      <td>11</td>\n",
              "      <td>5</td>\n",
              "      <td>1.0</td>\n",
              "      <td>1</td>\n",
              "      <td>50</td>\n",
              "      <td>NaN</td>\n",
              "      <td>1.0</td>\n",
              "      <td>EE</td>\n",
              "      <td>3000.0</td>\n",
              "      <td>3000.0</td>\n",
              "      <td>17.12</td>\n",
              "      <td>60</td>\n",
              "      <td>84.75</td>\n",
              "      <td>NaN</td>\n",
              "      <td>NaN</td>\n",
              "      <td>3</td>\n",
              "      <td>5.0</td>\n",
              "      <td>2.0</td>\n",
              "      <td>0</td>\n",
              "      <td>5.0</td>\n",
              "      <td>MoreThan5Years</td>\n",
              "      <td>NaN</td>\n",
              "      <td>MoreThan25Years</td>\n",
              "      <td>7.0</td>\n",
              "      <td>...</td>\n",
              "      <td>2370.77</td>\n",
              "      <td>294.43</td>\n",
              "      <td>0.0</td>\n",
              "      <td>2.0</td>\n",
              "      <td>2019-08-01 14:18:33</td>\n",
              "      <td>1.0</td>\n",
              "      <td>B</td>\n",
              "      <td>NaN</td>\n",
              "      <td>NaN</td>\n",
              "      <td>0.030799</td>\n",
              "      <td>B</td>\n",
              "      <td>B</td>\n",
              "      <td>Late</td>\n",
              "      <td>False</td>\n",
              "      <td>180+</td>\n",
              "      <td>180+</td>\n",
              "      <td>NaN</td>\n",
              "      <td>NaN</td>\n",
              "      <td>NaN</td>\n",
              "      <td>1000.0</td>\n",
              "      <td>563.59</td>\n",
              "      <td>360.07</td>\n",
              "      <td>0.00</td>\n",
              "      <td>0.00</td>\n",
              "      <td>2436.41</td>\n",
              "      <td>2187.55</td>\n",
              "      <td>1</td>\n",
              "      <td>1800.0</td>\n",
              "      <td>445.26</td>\n",
              "      <td>3000.0</td>\n",
              "      <td>1</td>\n",
              "      <td>NaN</td>\n",
              "      <td>NaN</td>\n",
              "      <td>NaN</td>\n",
              "      <td>NaN</td>\n",
              "      <td>NaN</td>\n",
              "      <td>NaN</td>\n",
              "      <td>0.00</td>\n",
              "      <td>47.08</td>\n",
              "      <td>180+</td>\n",
              "    </tr>\n",
              "    <tr>\n",
              "      <th>2</th>\n",
              "      <td>2021-04-21</td>\n",
              "      <td>87342E13-66CB-483F-833A-007953E50C78</td>\n",
              "      <td>451831</td>\n",
              "      <td>2016-01-14 10:00:21</td>\n",
              "      <td>2016-01-14 10:00:21</td>\n",
              "      <td>2700.0</td>\n",
              "      <td>565.0</td>\n",
              "      <td>5835.0</td>\n",
              "      <td>BO7971663</td>\n",
              "      <td>True</td>\n",
              "      <td>2016-01-07 15:37:16</td>\n",
              "      <td>2016-01-19</td>\n",
              "      <td>2019-10-24</td>\n",
              "      <td>2016-02-22</td>\n",
              "      <td>2021-01-20</td>\n",
              "      <td>2021-01-20</td>\n",
              "      <td>22</td>\n",
              "      <td>3</td>\n",
              "      <td>4.0</td>\n",
              "      <td>1</td>\n",
              "      <td>44</td>\n",
              "      <td>NaN</td>\n",
              "      <td>0.0</td>\n",
              "      <td>EE</td>\n",
              "      <td>10630.0</td>\n",
              "      <td>9100.0</td>\n",
              "      <td>13.67</td>\n",
              "      <td>60</td>\n",
              "      <td>268.57</td>\n",
              "      <td>NaN</td>\n",
              "      <td>NaN</td>\n",
              "      <td>3</td>\n",
              "      <td>4.0</td>\n",
              "      <td>4.0</td>\n",
              "      <td>1</td>\n",
              "      <td>5.0</td>\n",
              "      <td>UpTo3Years</td>\n",
              "      <td>NaN</td>\n",
              "      <td>MoreThan25Years</td>\n",
              "      <td>8.0</td>\n",
              "      <td>...</td>\n",
              "      <td>5014.54</td>\n",
              "      <td>4160.01</td>\n",
              "      <td>0.0</td>\n",
              "      <td>2.0</td>\n",
              "      <td>2018-02-28 14:43:37.670000000</td>\n",
              "      <td>2.0</td>\n",
              "      <td>A</td>\n",
              "      <td>NaN</td>\n",
              "      <td>NaN</td>\n",
              "      <td>NaN</td>\n",
              "      <td>NaN</td>\n",
              "      <td>A</td>\n",
              "      <td>Repaid</td>\n",
              "      <td>False</td>\n",
              "      <td>180+</td>\n",
              "      <td>180+</td>\n",
              "      <td>NaN</td>\n",
              "      <td>NaN</td>\n",
              "      <td>NaN</td>\n",
              "      <td>1000.0</td>\n",
              "      <td>6537.00</td>\n",
              "      <td>1708.47</td>\n",
              "      <td>2303.33</td>\n",
              "      <td>0.88</td>\n",
              "      <td>0.00</td>\n",
              "      <td>0.00</td>\n",
              "      <td>0</td>\n",
              "      <td>0.0</td>\n",
              "      <td>0.00</td>\n",
              "      <td>0.0</td>\n",
              "      <td>0</td>\n",
              "      <td>NaN</td>\n",
              "      <td>NaN</td>\n",
              "      <td>NaN</td>\n",
              "      <td>NaN</td>\n",
              "      <td>NaN</td>\n",
              "      <td>NaN</td>\n",
              "      <td>259.67</td>\n",
              "      <td>1659.60</td>\n",
              "      <td>180+</td>\n",
              "    </tr>\n",
              "    <tr>\n",
              "      <th>3</th>\n",
              "      <td>2021-04-21</td>\n",
              "      <td>87227056-6BF9-410C-98D1-008F788E122A</td>\n",
              "      <td>349381</td>\n",
              "      <td>2015-03-24 15:55:44</td>\n",
              "      <td>2015-03-24 15:55:44</td>\n",
              "      <td>1115.0</td>\n",
              "      <td>0.0</td>\n",
              "      <td>385.0</td>\n",
              "      <td>BO76151K3</td>\n",
              "      <td>True</td>\n",
              "      <td>2015-03-20 15:20:48</td>\n",
              "      <td>2015-03-27</td>\n",
              "      <td>NaN</td>\n",
              "      <td>2015-05-04</td>\n",
              "      <td>2020-04-01</td>\n",
              "      <td>2020-04-01</td>\n",
              "      <td>15</td>\n",
              "      <td>3</td>\n",
              "      <td>3.0</td>\n",
              "      <td>6</td>\n",
              "      <td>42</td>\n",
              "      <td>NaN</td>\n",
              "      <td>0.0</td>\n",
              "      <td>ES</td>\n",
              "      <td>1500.0</td>\n",
              "      <td>1500.0</td>\n",
              "      <td>40.40</td>\n",
              "      <td>60</td>\n",
              "      <td>63.53</td>\n",
              "      <td>NaN</td>\n",
              "      <td>NaN</td>\n",
              "      <td>2</td>\n",
              "      <td>2.0</td>\n",
              "      <td>1.0</td>\n",
              "      <td>0</td>\n",
              "      <td>3.0</td>\n",
              "      <td>UpTo5Years</td>\n",
              "      <td>NaN</td>\n",
              "      <td>5To10Years</td>\n",
              "      <td>1.0</td>\n",
              "      <td>...</td>\n",
              "      <td>1078.76</td>\n",
              "      <td>399.41</td>\n",
              "      <td>0.0</td>\n",
              "      <td>1.0</td>\n",
              "      <td>2020-11-27 00:00:00</td>\n",
              "      <td>1.0</td>\n",
              "      <td>F</td>\n",
              "      <td>NaN</td>\n",
              "      <td>NaN</td>\n",
              "      <td>0.220810</td>\n",
              "      <td>F</td>\n",
              "      <td>HR</td>\n",
              "      <td>Late</td>\n",
              "      <td>False</td>\n",
              "      <td>180+</td>\n",
              "      <td>180+</td>\n",
              "      <td>M3</td>\n",
              "      <td>B</td>\n",
              "      <td>NaN</td>\n",
              "      <td>NaN</td>\n",
              "      <td>464.73</td>\n",
              "      <td>355.92</td>\n",
              "      <td>0.00</td>\n",
              "      <td>0.00</td>\n",
              "      <td>1035.27</td>\n",
              "      <td>2729.27</td>\n",
              "      <td>0</td>\n",
              "      <td>0.0</td>\n",
              "      <td>0.00</td>\n",
              "      <td>1500.0</td>\n",
              "      <td>1</td>\n",
              "      <td>NaN</td>\n",
              "      <td>NaN</td>\n",
              "      <td>NaN</td>\n",
              "      <td>NaN</td>\n",
              "      <td>NaN</td>\n",
              "      <td>NaN</td>\n",
              "      <td>0.00</td>\n",
              "      <td>215.05</td>\n",
              "      <td>180+</td>\n",
              "    </tr>\n",
              "    <tr>\n",
              "      <th>4</th>\n",
              "      <td>2021-04-21</td>\n",
              "      <td>2DDE6336-E466-4624-A337-00A0ED1A1468</td>\n",
              "      <td>443082</td>\n",
              "      <td>2015-12-17 10:12:00</td>\n",
              "      <td>2015-12-17 10:12:00</td>\n",
              "      <td>305.0</td>\n",
              "      <td>0.0</td>\n",
              "      <td>785.0</td>\n",
              "      <td>BOK423A63</td>\n",
              "      <td>True</td>\n",
              "      <td>2015-12-13 00:30:08</td>\n",
              "      <td>2015-12-22</td>\n",
              "      <td>NaN</td>\n",
              "      <td>2016-02-01</td>\n",
              "      <td>2020-01-02</td>\n",
              "      <td>2020-01-02</td>\n",
              "      <td>20</td>\n",
              "      <td>3</td>\n",
              "      <td>4.0</td>\n",
              "      <td>6</td>\n",
              "      <td>34</td>\n",
              "      <td>NaN</td>\n",
              "      <td>1.0</td>\n",
              "      <td>ES</td>\n",
              "      <td>1595.0</td>\n",
              "      <td>1090.0</td>\n",
              "      <td>68.39</td>\n",
              "      <td>48</td>\n",
              "      <td>101.19</td>\n",
              "      <td>NaN</td>\n",
              "      <td>NaN</td>\n",
              "      <td>7</td>\n",
              "      <td>4.0</td>\n",
              "      <td>4.0</td>\n",
              "      <td>2</td>\n",
              "      <td>6.0</td>\n",
              "      <td>UpTo1Year</td>\n",
              "      <td>NaN</td>\n",
              "      <td>5To10Years</td>\n",
              "      <td>1.0</td>\n",
              "      <td>...</td>\n",
              "      <td>1089.99</td>\n",
              "      <td>0.00</td>\n",
              "      <td>0.0</td>\n",
              "      <td>1.0</td>\n",
              "      <td>2020-11-27 00:00:00</td>\n",
              "      <td>2.0</td>\n",
              "      <td>HR</td>\n",
              "      <td>NaN</td>\n",
              "      <td>NaN</td>\n",
              "      <td>NaN</td>\n",
              "      <td>NaN</td>\n",
              "      <td>HR</td>\n",
              "      <td>Late</td>\n",
              "      <td>False</td>\n",
              "      <td>180+</td>\n",
              "      <td>180+</td>\n",
              "      <td>M5</td>\n",
              "      <td>C</td>\n",
              "      <td>NaN</td>\n",
              "      <td>NaN</td>\n",
              "      <td>0.01</td>\n",
              "      <td>0.00</td>\n",
              "      <td>0.00</td>\n",
              "      <td>0.00</td>\n",
              "      <td>1089.99</td>\n",
              "      <td>4029.01</td>\n",
              "      <td>0</td>\n",
              "      <td>0.0</td>\n",
              "      <td>0.00</td>\n",
              "      <td>0.0</td>\n",
              "      <td>0</td>\n",
              "      <td>NaN</td>\n",
              "      <td>NaN</td>\n",
              "      <td>NaN</td>\n",
              "      <td>NaN</td>\n",
              "      <td>NaN</td>\n",
              "      <td>NaN</td>\n",
              "      <td>0.00</td>\n",
              "      <td>0.00</td>\n",
              "      <td>180+</td>\n",
              "    </tr>\n",
              "  </tbody>\n",
              "</table>\n",
              "<p>5 rows × 112 columns</p>\n",
              "</div>"
            ],
            "text/plain": [
              "  ReportAsOfEOD  ... ActiveLateLastPaymentCategory\n",
              "0    2021-04-21  ...                          8-15\n",
              "1    2021-04-21  ...                          180+\n",
              "2    2021-04-21  ...                          180+\n",
              "3    2021-04-21  ...                          180+\n",
              "4    2021-04-21  ...                          180+\n",
              "\n",
              "[5 rows x 112 columns]"
            ]
          },
          "metadata": {
            "tags": []
          },
          "execution_count": 3
        }
      ]
    },
    {
      "cell_type": "markdown",
      "metadata": {
        "id": "8bmb4hU7QAr-"
      },
      "source": [
        "TAI pudottaa tiedosto samaan työkirjaistuntoon ja lukea seuraavasti:"
      ]
    },
    {
      "cell_type": "code",
      "metadata": {
        "id": "c4IhzRP-NLrq"
      },
      "source": [
        "df=pd.read_csv('LoanData.csv')\n",
        "df.head()"
      ],
      "execution_count": null,
      "outputs": []
    },
    {
      "cell_type": "markdown",
      "metadata": {
        "id": "30cJho06QQEM"
      },
      "source": [
        "##Datan jalostaminen\n",
        "Bondoran lainadata sisältää 112 saraketta, jotka edustavat erilaisia tietoja lainasta ja lainan ottajasta. Valmis data on varsin siistissä muodossa, mutta dataa on silti siistittävä ja karsittava omiin käyttötarkoituksiin sopivaksi. Tutkittavia aiheita ovat esimerkiksi maksukyvyttömyys, mitkä asiat vaikuttavat lainanmaksuun ja millainen taloudellinen tilanne lainanottajalla on. Nämä kysymykset mielessä valitaan datasta sellaiset sarakkeet jotka mahdollisesti kuvaavat näitä aiheita, ja rajataan data koskemaan Suomessa asuvia lainanottajia. Valitaan sellaiset lainat, joissa sopimus on jo päättynyt jotta voidaan tarkastella lainan koko elinkaarta.\n",
        "\n"
      ]
    },
    {
      "cell_type": "code",
      "metadata": {
        "id": "oZ1_a7q6-uC9"
      },
      "source": [
        "data = df.loc[:,['NewCreditCustomer','Age','Gender','Country', \n",
        "                 'Amount','LoanDuration','MonthlyPayment',\n",
        "                 'Education','NrOfDependants','EmploymentStatus',\n",
        "                 'EmploymentDurationCurrentEmployer',\n",
        "                 'PrincipalBalance',\n",
        "                 'NoOfPreviousLoansBeforeLoan','AmountOfPreviousLoansBeforeLoan',\n",
        "                 'ExistingLiabilities',\n",
        "                 'IncomeTotal',\n",
        "                 'ProbabilityOfDefault',\n",
        "                 'DefaultDate','LoanDate','ContractEndDate']]"
      ],
      "execution_count": 4,
      "outputs": []
    },
    {
      "cell_type": "code",
      "metadata": {
        "id": "VmyglKOnemBq"
      },
      "source": [
        "# muutetaan tietotyyppejä\n",
        "data['LoanDate'] = pd.to_datetime(data['LoanDate'])\n",
        "data['ContractEndDate'] = pd.to_datetime(data['ContractEndDate'])\n",
        "\n",
        "data = data.dropna(subset=['ContractEndDate'])\n",
        "\n",
        "data = data[data['ContractEndDate'] < '2021-04-01']\n",
        "\n",
        "data = data[data.Country == 'FI']\n"
      ],
      "execution_count": 5,
      "outputs": []
    },
    {
      "cell_type": "code",
      "metadata": {
        "colab": {
          "base_uri": "https://localhost:8080/",
          "height": 357
        },
        "id": "OW-7ghQFe5A1",
        "outputId": "105a7d9b-20ad-4761-8cf6-9af746f30d74"
      },
      "source": [
        "data.head(6)"
      ],
      "execution_count": 6,
      "outputs": [
        {
          "output_type": "execute_result",
          "data": {
            "text/html": [
              "<div>\n",
              "<style scoped>\n",
              "    .dataframe tbody tr th:only-of-type {\n",
              "        vertical-align: middle;\n",
              "    }\n",
              "\n",
              "    .dataframe tbody tr th {\n",
              "        vertical-align: top;\n",
              "    }\n",
              "\n",
              "    .dataframe thead th {\n",
              "        text-align: right;\n",
              "    }\n",
              "</style>\n",
              "<table border=\"1\" class=\"dataframe\">\n",
              "  <thead>\n",
              "    <tr style=\"text-align: right;\">\n",
              "      <th></th>\n",
              "      <th>NewCreditCustomer</th>\n",
              "      <th>Age</th>\n",
              "      <th>Gender</th>\n",
              "      <th>Country</th>\n",
              "      <th>Amount</th>\n",
              "      <th>LoanDuration</th>\n",
              "      <th>MonthlyPayment</th>\n",
              "      <th>Education</th>\n",
              "      <th>NrOfDependants</th>\n",
              "      <th>EmploymentStatus</th>\n",
              "      <th>EmploymentDurationCurrentEmployer</th>\n",
              "      <th>PrincipalBalance</th>\n",
              "      <th>NoOfPreviousLoansBeforeLoan</th>\n",
              "      <th>AmountOfPreviousLoansBeforeLoan</th>\n",
              "      <th>ExistingLiabilities</th>\n",
              "      <th>IncomeTotal</th>\n",
              "      <th>ProbabilityOfDefault</th>\n",
              "      <th>DefaultDate</th>\n",
              "      <th>LoanDate</th>\n",
              "      <th>ContractEndDate</th>\n",
              "    </tr>\n",
              "  </thead>\n",
              "  <tbody>\n",
              "    <tr>\n",
              "      <th>8</th>\n",
              "      <td>True</td>\n",
              "      <td>60</td>\n",
              "      <td>0.0</td>\n",
              "      <td>FI</td>\n",
              "      <td>4000.0</td>\n",
              "      <td>36</td>\n",
              "      <td>185.35</td>\n",
              "      <td>4.0</td>\n",
              "      <td>0</td>\n",
              "      <td>3.0</td>\n",
              "      <td>MoreThan5Years</td>\n",
              "      <td>0.0</td>\n",
              "      <td>0</td>\n",
              "      <td>0.0</td>\n",
              "      <td>8</td>\n",
              "      <td>2590.0</td>\n",
              "      <td>0.125412</td>\n",
              "      <td>2016-09-06</td>\n",
              "      <td>2015-03-13</td>\n",
              "      <td>2016-09-14</td>\n",
              "    </tr>\n",
              "    <tr>\n",
              "      <th>18</th>\n",
              "      <td>True</td>\n",
              "      <td>67</td>\n",
              "      <td>0.0</td>\n",
              "      <td>FI</td>\n",
              "      <td>3720.0</td>\n",
              "      <td>60</td>\n",
              "      <td>121.52</td>\n",
              "      <td>3.0</td>\n",
              "      <td>0</td>\n",
              "      <td>6.0</td>\n",
              "      <td>UpTo2Years</td>\n",
              "      <td>0.0</td>\n",
              "      <td>0</td>\n",
              "      <td>0.0</td>\n",
              "      <td>12</td>\n",
              "      <td>1391.0</td>\n",
              "      <td>0.198666</td>\n",
              "      <td>NaN</td>\n",
              "      <td>2016-01-14</td>\n",
              "      <td>2016-09-05</td>\n",
              "    </tr>\n",
              "    <tr>\n",
              "      <th>33</th>\n",
              "      <td>True</td>\n",
              "      <td>68</td>\n",
              "      <td>0.0</td>\n",
              "      <td>FI</td>\n",
              "      <td>1000.0</td>\n",
              "      <td>60</td>\n",
              "      <td>34.33</td>\n",
              "      <td>2.0</td>\n",
              "      <td>0</td>\n",
              "      <td>6.0</td>\n",
              "      <td>MoreThan5Years</td>\n",
              "      <td>0.0</td>\n",
              "      <td>0</td>\n",
              "      <td>0.0</td>\n",
              "      <td>8</td>\n",
              "      <td>1706.0</td>\n",
              "      <td>0.117360</td>\n",
              "      <td>NaN</td>\n",
              "      <td>2015-09-21</td>\n",
              "      <td>2020-08-09</td>\n",
              "    </tr>\n",
              "    <tr>\n",
              "      <th>36</th>\n",
              "      <td>False</td>\n",
              "      <td>43</td>\n",
              "      <td>0.0</td>\n",
              "      <td>FI</td>\n",
              "      <td>4785.0</td>\n",
              "      <td>60</td>\n",
              "      <td>159.30</td>\n",
              "      <td>5.0</td>\n",
              "      <td>0</td>\n",
              "      <td>3.0</td>\n",
              "      <td>MoreThan5Years</td>\n",
              "      <td>0.0</td>\n",
              "      <td>2</td>\n",
              "      <td>4635.0</td>\n",
              "      <td>6</td>\n",
              "      <td>1871.0</td>\n",
              "      <td>0.107243</td>\n",
              "      <td>NaN</td>\n",
              "      <td>2015-11-16</td>\n",
              "      <td>2021-03-02</td>\n",
              "    </tr>\n",
              "    <tr>\n",
              "      <th>49</th>\n",
              "      <td>True</td>\n",
              "      <td>26</td>\n",
              "      <td>0.0</td>\n",
              "      <td>FI</td>\n",
              "      <td>3590.0</td>\n",
              "      <td>60</td>\n",
              "      <td>305.50</td>\n",
              "      <td>3.0</td>\n",
              "      <td>1</td>\n",
              "      <td>3.0</td>\n",
              "      <td>UpTo5Years</td>\n",
              "      <td>0.0</td>\n",
              "      <td>0</td>\n",
              "      <td>0.0</td>\n",
              "      <td>2</td>\n",
              "      <td>1648.0</td>\n",
              "      <td>0.068327</td>\n",
              "      <td>NaN</td>\n",
              "      <td>2015-07-29</td>\n",
              "      <td>2015-08-05</td>\n",
              "    </tr>\n",
              "    <tr>\n",
              "      <th>54</th>\n",
              "      <td>True</td>\n",
              "      <td>44</td>\n",
              "      <td>0.0</td>\n",
              "      <td>FI</td>\n",
              "      <td>2655.0</td>\n",
              "      <td>60</td>\n",
              "      <td>99.25</td>\n",
              "      <td>4.0</td>\n",
              "      <td>1</td>\n",
              "      <td>3.0</td>\n",
              "      <td>UpTo5Years</td>\n",
              "      <td>0.0</td>\n",
              "      <td>0</td>\n",
              "      <td>0.0</td>\n",
              "      <td>15</td>\n",
              "      <td>2127.0</td>\n",
              "      <td>0.293649</td>\n",
              "      <td>NaN</td>\n",
              "      <td>2016-02-16</td>\n",
              "      <td>2016-11-16</td>\n",
              "    </tr>\n",
              "  </tbody>\n",
              "</table>\n",
              "</div>"
            ],
            "text/plain": [
              "    NewCreditCustomer  Age  Gender  ... DefaultDate   LoanDate  ContractEndDate\n",
              "8                True   60     0.0  ...  2016-09-06 2015-03-13       2016-09-14\n",
              "18               True   67     0.0  ...         NaN 2016-01-14       2016-09-05\n",
              "33               True   68     0.0  ...         NaN 2015-09-21       2020-08-09\n",
              "36              False   43     0.0  ...         NaN 2015-11-16       2021-03-02\n",
              "49               True   26     0.0  ...         NaN 2015-07-29       2015-08-05\n",
              "54               True   44     0.0  ...         NaN 2016-02-16       2016-11-16\n",
              "\n",
              "[6 rows x 20 columns]"
            ]
          },
          "metadata": {
            "tags": []
          },
          "execution_count": 6
        }
      ]
    },
    {
      "cell_type": "markdown",
      "metadata": {
        "id": "21rJeRIxgMw9"
      },
      "source": [
        "DefaultDate: Päivämäärä jolloin laina on mennyt maksukyvyttömyystilaan ja perintä on aloitettu.\n",
        "\n",
        "Annetaan maksukyvyttömyystilaan menneille lainoille arvo 1 ja muille 0."
      ]
    },
    {
      "cell_type": "code",
      "metadata": {
        "colab": {
          "base_uri": "https://localhost:8080/"
        },
        "id": "dRo-aHT5nHZ6",
        "outputId": "9444cdbf-1380-4814-ff5a-450f2087dc3f"
      },
      "source": [
        "data.DefaultDate = (data.DefaultDate.notnull()).astype('int')\n",
        "\n",
        "data = data.rename(columns={'DefaultDate': 'DefaultState'})\n",
        "data.info()\n"
      ],
      "execution_count": 7,
      "outputs": [
        {
          "output_type": "stream",
          "text": [
            "<class 'pandas.core.frame.DataFrame'>\n",
            "Int64Index: 9483 entries, 8 to 166925\n",
            "Data columns (total 20 columns):\n",
            " #   Column                             Non-Null Count  Dtype         \n",
            "---  ------                             --------------  -----         \n",
            " 0   NewCreditCustomer                  9483 non-null   bool          \n",
            " 1   Age                                9483 non-null   int64         \n",
            " 2   Gender                             9483 non-null   float64       \n",
            " 3   Country                            9483 non-null   object        \n",
            " 4   Amount                             9483 non-null   float64       \n",
            " 5   LoanDuration                       9483 non-null   int64         \n",
            " 6   MonthlyPayment                     9164 non-null   float64       \n",
            " 7   Education                          9483 non-null   float64       \n",
            " 8   NrOfDependants                     2668 non-null   object        \n",
            " 9   EmploymentStatus                   9483 non-null   float64       \n",
            " 10  EmploymentDurationCurrentEmployer  9476 non-null   object        \n",
            " 11  PrincipalBalance                   9483 non-null   float64       \n",
            " 12  NoOfPreviousLoansBeforeLoan        9483 non-null   int64         \n",
            " 13  AmountOfPreviousLoansBeforeLoan    9483 non-null   float64       \n",
            " 14  ExistingLiabilities                9483 non-null   int64         \n",
            " 15  IncomeTotal                        9483 non-null   float64       \n",
            " 16  ProbabilityOfDefault               9478 non-null   float64       \n",
            " 17  DefaultState                       9483 non-null   int64         \n",
            " 18  LoanDate                           9483 non-null   datetime64[ns]\n",
            " 19  ContractEndDate                    9483 non-null   datetime64[ns]\n",
            "dtypes: bool(1), datetime64[ns](2), float64(9), int64(5), object(3)\n",
            "memory usage: 1.5+ MB\n"
          ],
          "name": "stdout"
        }
      ]
    },
    {
      "cell_type": "code",
      "metadata": {
        "id": "QE_XUFmVi5fa"
      },
      "source": [
        "data.head(6)"
      ],
      "execution_count": null,
      "outputs": []
    },
    {
      "cell_type": "markdown",
      "metadata": {
        "id": "1YGq4bADd8AL"
      },
      "source": [
        "Lisätään dataan uusi sarake, jotta voidaan vertailla lainan takaisinmaksukestoa myönnettyyn laina-ajan kestoon. Lainalle on myönnetty tietty aika, mutta esimerkiksi maksukyvyttömyys ja maksamatta jättäminen siirtävät erääntymispäivää. Samoin laina-aika lyhenee jos sen maksaa takaisin aikaisemmin."
      ]
    },
    {
      "cell_type": "code",
      "metadata": {
        "id": "v75vo8SYAOHz"
      },
      "source": [
        "data['LoanDurationLast'] = \"\"\n",
        "\n",
        "\n",
        "for x in range(len(data['ContractEndDate'])):\n",
        "    difference = pd.Timedelta(data['ContractEndDate'].values[x]-data['LoanDate'].values[x]).days\n",
        "    \n",
        "    data['LoanDurationLast'].values[x] = difference\n"
      ],
      "execution_count": 8,
      "outputs": []
    },
    {
      "cell_type": "code",
      "metadata": {
        "id": "KpJVEUdQOLDy"
      },
      "source": [
        "#muutetaan päivät vielä karkeasti kuukausiksi\n",
        "data['LoanDurationLast'] = data['LoanDurationLast']/365*12\n",
        "\n",
        "data['LoanDurationLast'] = data['LoanDurationLast'].astype(float)\n",
        "\n",
        "data['LoanDurationLast'] = data['LoanDurationLast'].round()\n",
        "\n",
        "data.LoanDurationLast = data.LoanDurationLast.astype(int)\n"
      ],
      "execution_count": 9,
      "outputs": []
    },
    {
      "cell_type": "markdown",
      "metadata": {
        "id": "AVmHM_00CRN8"
      },
      "source": [
        "Käytetään imputointimenetelmää muuttujan 'NrOfDependants' tyhjien arvojen korvaamiseen. Muuttuja kertoo kuinka monta huollettavaa lainan hakijalla on. Korvataan tyhjät arvot nyt vakiolla 0 sillä oletuksella että jos lainanhakijalla ei ole huollettavia, hän ei ole niin kiinnostunut kysymyksestä ja jättää vastauksen tyhjäksi. Samalla muutetaan kaikki arvot kokonaisluvuiksi.\n",
        "\n",
        "Tehdään sama myös muuttujalle 'ProbabilityOfDefault', joka kertoo todennäköisyyden maksukyvyttömyyteen vuoden sisällä, ja imputoidaan tyhjät arvot keskiarvolla.\n"
      ]
    },
    {
      "cell_type": "code",
      "metadata": {
        "id": "eyu8jqyVCbG7"
      },
      "source": [
        "imputer = SimpleImputer(strategy='constant', fill_value=0)\n",
        "data[['NrOfDependants']] = imputer.fit_transform(data[['NrOfDependants']])\n",
        "data['NrOfDependants'] = data['NrOfDependants'].astype(int)\n",
        "\n",
        "imputer2 = SimpleImputer()\n",
        "data[['ProbabilityOfDefault']] = imputer2.fit_transform(data[['ProbabilityOfDefault']])"
      ],
      "execution_count": 10,
      "outputs": []
    },
    {
      "cell_type": "code",
      "metadata": {
        "colab": {
          "base_uri": "https://localhost:8080/",
          "height": 317
        },
        "id": "lKkk6H4oCwDf",
        "outputId": "9f6009da-f008-4b04-c866-9cc3d8df7315"
      },
      "source": [
        "data.describe()"
      ],
      "execution_count": 11,
      "outputs": [
        {
          "output_type": "execute_result",
          "data": {
            "text/html": [
              "<div>\n",
              "<style scoped>\n",
              "    .dataframe tbody tr th:only-of-type {\n",
              "        vertical-align: middle;\n",
              "    }\n",
              "\n",
              "    .dataframe tbody tr th {\n",
              "        vertical-align: top;\n",
              "    }\n",
              "\n",
              "    .dataframe thead th {\n",
              "        text-align: right;\n",
              "    }\n",
              "</style>\n",
              "<table border=\"1\" class=\"dataframe\">\n",
              "  <thead>\n",
              "    <tr style=\"text-align: right;\">\n",
              "      <th></th>\n",
              "      <th>Age</th>\n",
              "      <th>Gender</th>\n",
              "      <th>Amount</th>\n",
              "      <th>LoanDuration</th>\n",
              "      <th>MonthlyPayment</th>\n",
              "      <th>Education</th>\n",
              "      <th>NrOfDependants</th>\n",
              "      <th>EmploymentStatus</th>\n",
              "      <th>PrincipalBalance</th>\n",
              "      <th>NoOfPreviousLoansBeforeLoan</th>\n",
              "      <th>AmountOfPreviousLoansBeforeLoan</th>\n",
              "      <th>ExistingLiabilities</th>\n",
              "      <th>IncomeTotal</th>\n",
              "      <th>ProbabilityOfDefault</th>\n",
              "      <th>DefaultState</th>\n",
              "      <th>LoanDurationLast</th>\n",
              "    </tr>\n",
              "  </thead>\n",
              "  <tbody>\n",
              "    <tr>\n",
              "      <th>count</th>\n",
              "      <td>9483.000000</td>\n",
              "      <td>9483.000000</td>\n",
              "      <td>9483.000000</td>\n",
              "      <td>9483.000000</td>\n",
              "      <td>9164.000000</td>\n",
              "      <td>9483.000000</td>\n",
              "      <td>9483.000000</td>\n",
              "      <td>9483.000000</td>\n",
              "      <td>9483.000000</td>\n",
              "      <td>9483.000000</td>\n",
              "      <td>9483.000000</td>\n",
              "      <td>9483.000000</td>\n",
              "      <td>9.483000e+03</td>\n",
              "      <td>9483.000000</td>\n",
              "      <td>9483.000000</td>\n",
              "      <td>9483.000000</td>\n",
              "    </tr>\n",
              "    <tr>\n",
              "      <th>mean</th>\n",
              "      <td>43.844775</td>\n",
              "      <td>0.373300</td>\n",
              "      <td>3484.530845</td>\n",
              "      <td>48.446694</td>\n",
              "      <td>168.284498</td>\n",
              "      <td>3.553306</td>\n",
              "      <td>0.179374</td>\n",
              "      <td>0.267848</td>\n",
              "      <td>80.268603</td>\n",
              "      <td>0.550459</td>\n",
              "      <td>1709.069005</td>\n",
              "      <td>2.941158</td>\n",
              "      <td>2.815153e+03</td>\n",
              "      <td>0.280457</td>\n",
              "      <td>0.206158</td>\n",
              "      <td>14.322683</td>\n",
              "    </tr>\n",
              "    <tr>\n",
              "      <th>std</th>\n",
              "      <td>12.839835</td>\n",
              "      <td>0.483706</td>\n",
              "      <td>2340.401050</td>\n",
              "      <td>14.295625</td>\n",
              "      <td>129.742316</td>\n",
              "      <td>1.170446</td>\n",
              "      <td>0.612040</td>\n",
              "      <td>2.052405</td>\n",
              "      <td>571.884334</td>\n",
              "      <td>1.179547</td>\n",
              "      <td>3635.056561</td>\n",
              "      <td>3.467284</td>\n",
              "      <td>1.545216e+04</td>\n",
              "      <td>0.139681</td>\n",
              "      <td>0.404567</td>\n",
              "      <td>16.027024</td>\n",
              "    </tr>\n",
              "    <tr>\n",
              "      <th>min</th>\n",
              "      <td>18.000000</td>\n",
              "      <td>0.000000</td>\n",
              "      <td>176.000000</td>\n",
              "      <td>3.000000</td>\n",
              "      <td>0.000000</td>\n",
              "      <td>1.000000</td>\n",
              "      <td>0.000000</td>\n",
              "      <td>-1.000000</td>\n",
              "      <td>0.000000</td>\n",
              "      <td>0.000000</td>\n",
              "      <td>0.000000</td>\n",
              "      <td>0.000000</td>\n",
              "      <td>1.200000e+00</td>\n",
              "      <td>0.000000</td>\n",
              "      <td>0.000000</td>\n",
              "      <td>0.000000</td>\n",
              "    </tr>\n",
              "    <tr>\n",
              "      <th>25%</th>\n",
              "      <td>34.000000</td>\n",
              "      <td>0.000000</td>\n",
              "      <td>2020.000000</td>\n",
              "      <td>36.000000</td>\n",
              "      <td>90.857500</td>\n",
              "      <td>3.000000</td>\n",
              "      <td>0.000000</td>\n",
              "      <td>-1.000000</td>\n",
              "      <td>0.000000</td>\n",
              "      <td>0.000000</td>\n",
              "      <td>0.000000</td>\n",
              "      <td>1.000000</td>\n",
              "      <td>1.650000e+03</td>\n",
              "      <td>0.150150</td>\n",
              "      <td>0.000000</td>\n",
              "      <td>3.000000</td>\n",
              "    </tr>\n",
              "    <tr>\n",
              "      <th>50%</th>\n",
              "      <td>43.000000</td>\n",
              "      <td>0.000000</td>\n",
              "      <td>3070.000000</td>\n",
              "      <td>60.000000</td>\n",
              "      <td>138.340000</td>\n",
              "      <td>3.000000</td>\n",
              "      <td>0.000000</td>\n",
              "      <td>-1.000000</td>\n",
              "      <td>0.000000</td>\n",
              "      <td>0.000000</td>\n",
              "      <td>0.000000</td>\n",
              "      <td>2.000000</td>\n",
              "      <td>2.085000e+03</td>\n",
              "      <td>0.286733</td>\n",
              "      <td>0.000000</td>\n",
              "      <td>9.000000</td>\n",
              "    </tr>\n",
              "    <tr>\n",
              "      <th>75%</th>\n",
              "      <td>54.000000</td>\n",
              "      <td>1.000000</td>\n",
              "      <td>4250.000000</td>\n",
              "      <td>60.000000</td>\n",
              "      <td>227.992500</td>\n",
              "      <td>5.000000</td>\n",
              "      <td>0.000000</td>\n",
              "      <td>3.000000</td>\n",
              "      <td>0.000000</td>\n",
              "      <td>1.000000</td>\n",
              "      <td>2125.000000</td>\n",
              "      <td>4.000000</td>\n",
              "      <td>2.647000e+03</td>\n",
              "      <td>0.399250</td>\n",
              "      <td>0.000000</td>\n",
              "      <td>19.000000</td>\n",
              "    </tr>\n",
              "    <tr>\n",
              "      <th>max</th>\n",
              "      <td>70.000000</td>\n",
              "      <td>1.000000</td>\n",
              "      <td>10630.000000</td>\n",
              "      <td>60.000000</td>\n",
              "      <td>1871.460000</td>\n",
              "      <td>5.000000</td>\n",
              "      <td>7.000000</td>\n",
              "      <td>6.000000</td>\n",
              "      <td>10567.810000</td>\n",
              "      <td>18.000000</td>\n",
              "      <td>49027.000000</td>\n",
              "      <td>33.000000</td>\n",
              "      <td>1.012019e+06</td>\n",
              "      <td>0.813449</td>\n",
              "      <td>1.000000</td>\n",
              "      <td>91.000000</td>\n",
              "    </tr>\n",
              "  </tbody>\n",
              "</table>\n",
              "</div>"
            ],
            "text/plain": [
              "               Age       Gender  ...  DefaultState  LoanDurationLast\n",
              "count  9483.000000  9483.000000  ...   9483.000000       9483.000000\n",
              "mean     43.844775     0.373300  ...      0.206158         14.322683\n",
              "std      12.839835     0.483706  ...      0.404567         16.027024\n",
              "min      18.000000     0.000000  ...      0.000000          0.000000\n",
              "25%      34.000000     0.000000  ...      0.000000          3.000000\n",
              "50%      43.000000     0.000000  ...      0.000000          9.000000\n",
              "75%      54.000000     1.000000  ...      0.000000         19.000000\n",
              "max      70.000000     1.000000  ...      1.000000         91.000000\n",
              "\n",
              "[8 rows x 16 columns]"
            ]
          },
          "metadata": {
            "tags": []
          },
          "execution_count": 11
        }
      ]
    },
    {
      "cell_type": "markdown",
      "metadata": {
        "id": "f7NMrZkmg4Jc"
      },
      "source": [
        "'EmplymentStatus' saa seuraavia arvoja: 1 Unemployed 2 Partially employed 3 Fully employed 4 Self-employed 5 Entrepreneur 6 Retiree. \n",
        "\n",
        "Datassa arvo 1 on kuitenkin muuttunut arvoksi -1 joten korjataan se ja muutetaan kaikki arvot kokonaisluvuiksi."
      ]
    },
    {
      "cell_type": "code",
      "metadata": {
        "id": "AJV5gQAPffp8"
      },
      "source": [
        "data.EmploymentStatus = data.EmploymentStatus.abs().astype(int)"
      ],
      "execution_count": 12,
      "outputs": []
    },
    {
      "cell_type": "markdown",
      "metadata": {
        "id": "xBFjCWJ_O-Gh"
      },
      "source": [
        "##Datan kuvaileminen\n",
        "Tutkitaan dataa visuaalisesti. Tarkastellaan ensin lainoja lainan alkamispäivän mukaan. Kuluttajaluottojen määräaikainen korkokaton laskeminen 1.7.2020–31.12.2020 korona-aikaan laittoi monet yritykset miettimään uudelleen lainan myöntämiskriteereitä. Seuraavassa kuvassa, jossa on käytetty koko ladattua dataa, näkyy rako suurimmissa myönnetyissä summissa, mutta pienempiä lainoja on edelleen myönnetty."
      ]
    },
    {
      "cell_type": "code",
      "metadata": {
        "colab": {
          "base_uri": "https://localhost:8080/",
          "height": 296
        },
        "id": "Rl0jU0BfqAff",
        "outputId": "0871ba86-296c-4833-b9ed-eae282ae907a"
      },
      "source": [
        "df['LoanDate'] = pd.to_datetime(df['LoanDate'])\n",
        "df.plot.scatter(x='LoanDate', y='Amount', s=0.5)"
      ],
      "execution_count": 13,
      "outputs": [
        {
          "output_type": "execute_result",
          "data": {
            "text/plain": [
              "<matplotlib.axes._subplots.AxesSubplot at 0x7f4db4e0f1d0>"
            ]
          },
          "metadata": {
            "tags": []
          },
          "execution_count": 13
        },
        {
          "output_type": "display_data",
          "data": {
            "image/png": "[encoded data removed]",
            "text/plain": [
              "<Figure size 432x288 with 1 Axes>"
            ]
          },
          "metadata": {
            "tags": [],
            "needs_background": "light"
          }
        }
      ]
    },
    {
      "cell_type": "markdown",
      "metadata": {
        "id": "PTMb8301uACW"
      },
      "source": [
        "Seuraava kuva on jalostetulla datalla, jossa lainojen päättymispäivät ovat ennen 1.4.2021. Kuvasta huomaa, että lyhytkestoisia lainoja ei ole myönnetty silloin kun korkokaton sääntelyä on ehdotettu valmisteltavaksi."
      ]
    },
    {
      "cell_type": "code",
      "metadata": {
        "colab": {
          "base_uri": "https://localhost:8080/",
          "height": 296
        },
        "id": "n0ug7pAYENwK",
        "outputId": "17ae558d-6cf4-44b8-ceb3-180e25c0c8b3"
      },
      "source": [
        "data.plot.scatter(x='LoanDate', y='Amount', s=2)"
      ],
      "execution_count": 14,
      "outputs": [
        {
          "output_type": "execute_result",
          "data": {
            "text/plain": [
              "<matplotlib.axes._subplots.AxesSubplot at 0x7f4db4da8a10>"
            ]
          },
          "metadata": {
            "tags": []
          },
          "execution_count": 14
        },
        {
          "output_type": "display_data",
          "data": {
            "image/png": "[encoded data removed]",
            "text/plain": [
              "<Figure size 432x288 with 1 Axes>"
            ]
          },
          "metadata": {
            "tags": [],
            "needs_background": "light"
          }
        }
      ]
    },
    {
      "cell_type": "markdown",
      "metadata": {
        "id": "8JO4E3cHnQ1K"
      },
      "source": [
        "Tarkastellaan lainanhakijan tulojen ja haetun lainan määrän suhdetta ja määritellään siihen regressiosuora. Huomataan, että tulojen suuruudella ei ole vaikutusta haettavaan lainan suuruuteen. "
      ]
    },
    {
      "cell_type": "code",
      "metadata": {
        "colab": {
          "base_uri": "https://localhost:8080/",
          "height": 279
        },
        "id": "Xn2aGVAPBmv8",
        "outputId": "806cc37d-4b48-42cf-d548-212618770d4f"
      },
      "source": [
        "x = data.IncomeTotal\n",
        "y = data.Amount\n",
        "\n",
        "m, b = np.polyfit(x, y, 1)\n",
        "\n",
        "plt.plot(x, y, '.')\n",
        "plt.xlim(0,10000) \n",
        "plt.ylim(0,11000)\n",
        "xreg = np.linspace(0,10000)\n",
        "plt.plot(xreg, b + m * xreg, '-')\n",
        "plt.xlabel('Total Income')\n",
        "plt.ylabel('Loan Amount')\n",
        "plt.show()"
      ],
      "execution_count": 15,
      "outputs": [
        {
          "output_type": "display_data",
          "data": {
            "image/png": "[encoded data removed]",
            "text/plain": [
              "<Figure size 432x288 with 1 Axes>"
            ]
          },
          "metadata": {
            "tags": [],
            "needs_background": "light"
          }
        }
      ]
    },
    {
      "cell_type": "markdown",
      "metadata": {
        "id": "1I63gXEtuDPG"
      },
      "source": [
        "Lainan takaisinmaksuaika on 3 - 60 kk. Seuraavassa kuvassa tarkastellaan myönnettyä maksuaikaa ('LoanDuration') verrattuna lainan todelliseen kestoon ('LoanDurationLast) eli aikaan lainasopimuksen alkamispäivästä lainan päättymispäivään. Kuvasta huomataan että laina-ajat sekä alittuvat myönnetystä maksuajasta kun laina on maksettu aikaisemmin takaisin, että ylittyvät kun lainan takaisinmaksuja ei ole hoidettu sovitusti."
      ]
    },
    {
      "cell_type": "code",
      "metadata": {
        "colab": {
          "base_uri": "https://localhost:8080/",
          "height": 296
        },
        "id": "kLZeyBSveY_a",
        "outputId": "8e6c4304-d147-47c8-ac06-4f12444381d0"
      },
      "source": [
        "data.plot.scatter(x='LoanDuration', y='LoanDurationLast',s=3)"
      ],
      "execution_count": 16,
      "outputs": [
        {
          "output_type": "execute_result",
          "data": {
            "text/plain": [
              "<matplotlib.axes._subplots.AxesSubplot at 0x7f4daa804b10>"
            ]
          },
          "metadata": {
            "tags": []
          },
          "execution_count": 16
        },
        {
          "output_type": "display_data",
          "data": {
            "image/png": "[encoded data removed]",
            "text/plain": [
              "<Figure size 432x288 with 1 Axes>"
            ]
          },
          "metadata": {
            "tags": [],
            "needs_background": "light"
          }
        }
      ]
    },
    {
      "cell_type": "markdown",
      "metadata": {
        "id": "YnzFLOP8qnfq"
      },
      "source": [
        "Tarkastellaan maksukyvyttömyystilaa lainanhakijan työllisyystilanteen mukaan. 'DefaultState on 0 kun takaisinmaksu on hoidettu sovitusti ja 1 kun maksu on laiminlyöty ja perintä on aloitettu. Työllisyystilanne ('EmploymentStatus') on jaoteltu seuraavasti: 1 Unemployed, 2 Partially employed, 3 Fully employed, 4 Self-employed, 5 Entrepreneur, 6 Retiree. \n",
        "\n",
        "Lukumäärältään lainanottajia on eniten työttömissä, ja toisena tulee täysin työllistettyjen ryhmä, mutta laiminlyötyjen lainojen suhde takaisin maksettuihin on huomattavasti suurempi tässä ryhmässä kuin työttömien osuudessa."
      ]
    },
    {
      "cell_type": "code",
      "metadata": {
        "id": "GFPc20IPp1Ab",
        "colab": {
          "base_uri": "https://localhost:8080/",
          "height": 407
        },
        "outputId": "dd0f59ff-5537-4da2-f5dc-49a9752e31f1"
      },
      "source": [
        "data.groupby(['EmploymentStatus'])['DefaultState'].value_counts()\\\n",
        ".unstack().plot(kind='barh', stacked=True, figsize=(15,6), color=('b', 'r'), \n",
        "                title='1 Unemployed, 2 Partially employed, 3 Fully employed, 4 Self-employed, 5 Entrepreneur, 6 Retiree ')\n"
      ],
      "execution_count": 17,
      "outputs": [
        {
          "output_type": "execute_result",
          "data": {
            "text/plain": [
              "<matplotlib.axes._subplots.AxesSubplot at 0x7f4db4d8c2d0>"
            ]
          },
          "metadata": {
            "tags": []
          },
          "execution_count": 17
        },
        {
          "output_type": "display_data",
          "data": {
            "image/png": "[encoded data removed]",
            "text/plain": [
              "<Figure size 1080x432 with 1 Axes>"
            ]
          },
          "metadata": {
            "tags": [],
            "needs_background": "light"
          }
        }
      ]
    },
    {
      "cell_type": "markdown",
      "metadata": {
        "id": "SUaty_rbZHOV"
      },
      "source": [
        "##Koneoppiminen\n",
        "Yritetään monimuuttujaregressiolla ennustaa lainanottajan ennakkotiedoilla, tuleeko hän maksamaan lainansa takaisin vai meneekö laina maksukyvyttömyystilaan ja perintään.  Siksi selittäviksi muuttujiksi valittiin Bondoran lainadatasetistä sellaisia muuttujia, jotka ovat tiedossa ennen lainan myöntämistä.\n",
        "\n",
        "Selittävien muuttujien kategoriset arvot muutetaan dummy-muuttujiksi ja selitettävä muuttuja 'DefaultState' saa arvoja 1 tai 0 (maksettu takaisin tai maksun laiminlyönti). Muuttujiksi valittiin seuraavat:"
      ]
    },
    {
      "cell_type": "code",
      "metadata": {
        "id": "GmYMLixs_ot5"
      },
      "source": [
        "learndata = data.loc[:,['Age','Amount','LoanDuration',\n",
        "                 'Education','NrOfDependants','EmploymentStatus',\n",
        "                 'EmploymentDurationCurrentEmployer',\n",
        "                 'AmountOfPreviousLoansBeforeLoan',\n",
        "                 'IncomeTotal','DefaultState']]\n",
        "      "
      ],
      "execution_count": 18,
      "outputs": []
    },
    {
      "cell_type": "code",
      "metadata": {
        "colab": {
          "base_uri": "https://localhost:8080/"
        },
        "id": "ACPXQelCXFu4",
        "outputId": "e51c3ab5-a37f-4079-cabc-636d193a092b"
      },
      "source": [
        "learndata.info()"
      ],
      "execution_count": 19,
      "outputs": [
        {
          "output_type": "stream",
          "text": [
            "<class 'pandas.core.frame.DataFrame'>\n",
            "Int64Index: 9483 entries, 8 to 166925\n",
            "Data columns (total 10 columns):\n",
            " #   Column                             Non-Null Count  Dtype  \n",
            "---  ------                             --------------  -----  \n",
            " 0   Age                                9483 non-null   int64  \n",
            " 1   Amount                             9483 non-null   float64\n",
            " 2   LoanDuration                       9483 non-null   int64  \n",
            " 3   Education                          9483 non-null   float64\n",
            " 4   NrOfDependants                     9483 non-null   int64  \n",
            " 5   EmploymentStatus                   9483 non-null   int64  \n",
            " 6   EmploymentDurationCurrentEmployer  9476 non-null   object \n",
            " 7   AmountOfPreviousLoansBeforeLoan    9483 non-null   float64\n",
            " 8   IncomeTotal                        9483 non-null   float64\n",
            " 9   DefaultState                       9483 non-null   int64  \n",
            "dtypes: float64(4), int64(5), object(1)\n",
            "memory usage: 814.9+ KB\n"
          ],
          "name": "stdout"
        }
      ]
    },
    {
      "cell_type": "code",
      "metadata": {
        "id": "kRsxZrKUBhAf"
      },
      "source": [
        "#poistetaan rivit joissa on vielä tyhjiä arvoja\n",
        "learndata=learndata.dropna()"
      ],
      "execution_count": 20,
      "outputs": []
    },
    {
      "cell_type": "code",
      "metadata": {
        "id": "S1Lr9QiXEKV1"
      },
      "source": [
        "# Muutetaan 'Education', 'NrOfDependants' ja 'EmploymentStatus' object tietotyypiksi\n",
        "learndata.Education = learndata.Education.astype(object)\n",
        "learndata.EmploymentStatus = learndata.EmploymentStatus.astype(object)\n",
        "learndata.NrOfDependants = learndata.NrOfDependants.astype(object)"
      ],
      "execution_count": 21,
      "outputs": []
    },
    {
      "cell_type": "code",
      "metadata": {
        "id": "kkI1DxSFC5Ez"
      },
      "source": [
        "y = learndata['DefaultState']\n",
        "\n",
        "learndata = learndata.drop('DefaultState', axis=1)"
      ],
      "execution_count": 22,
      "outputs": []
    },
    {
      "cell_type": "code",
      "metadata": {
        "colab": {
          "base_uri": "https://localhost:8080/"
        },
        "id": "fH-27It1E-Jz",
        "outputId": "870447d7-2d50-4c48-d7d3-f38158b0f341"
      },
      "source": [
        "learndata.info()"
      ],
      "execution_count": 23,
      "outputs": [
        {
          "output_type": "stream",
          "text": [
            "<class 'pandas.core.frame.DataFrame'>\n",
            "Int64Index: 9476 entries, 8 to 166925\n",
            "Data columns (total 9 columns):\n",
            " #   Column                             Non-Null Count  Dtype  \n",
            "---  ------                             --------------  -----  \n",
            " 0   Age                                9476 non-null   int64  \n",
            " 1   Amount                             9476 non-null   float64\n",
            " 2   LoanDuration                       9476 non-null   int64  \n",
            " 3   Education                          9476 non-null   object \n",
            " 4   NrOfDependants                     9476 non-null   object \n",
            " 5   EmploymentStatus                   9476 non-null   object \n",
            " 6   EmploymentDurationCurrentEmployer  9476 non-null   object \n",
            " 7   AmountOfPreviousLoansBeforeLoan    9476 non-null   float64\n",
            " 8   IncomeTotal                        9476 non-null   float64\n",
            "dtypes: float64(3), int64(2), object(4)\n",
            "memory usage: 740.3+ KB\n"
          ],
          "name": "stdout"
        }
      ]
    },
    {
      "cell_type": "code",
      "metadata": {
        "colab": {
          "base_uri": "https://localhost:8080/"
        },
        "id": "A9pCAIlbDUYE",
        "outputId": "f137fc2d-03cf-4fd3-d1bd-c14059978787"
      },
      "source": [
        "# kategoriset arvot numeerisiksi\n",
        "\n",
        "X = pd.get_dummies(learndata)\n",
        "X.info()"
      ],
      "execution_count": 24,
      "outputs": [
        {
          "output_type": "stream",
          "text": [
            "<class 'pandas.core.frame.DataFrame'>\n",
            "Int64Index: 9476 entries, 8 to 166925\n",
            "Data columns (total 33 columns):\n",
            " #   Column                                            Non-Null Count  Dtype  \n",
            "---  ------                                            --------------  -----  \n",
            " 0   Age                                               9476 non-null   int64  \n",
            " 1   Amount                                            9476 non-null   float64\n",
            " 2   LoanDuration                                      9476 non-null   int64  \n",
            " 3   AmountOfPreviousLoansBeforeLoan                   9476 non-null   float64\n",
            " 4   IncomeTotal                                       9476 non-null   float64\n",
            " 5   Education_1.0                                     9476 non-null   uint8  \n",
            " 6   Education_2.0                                     9476 non-null   uint8  \n",
            " 7   Education_3.0                                     9476 non-null   uint8  \n",
            " 8   Education_4.0                                     9476 non-null   uint8  \n",
            " 9   Education_5.0                                     9476 non-null   uint8  \n",
            " 10  NrOfDependants_0                                  9476 non-null   uint8  \n",
            " 11  NrOfDependants_1                                  9476 non-null   uint8  \n",
            " 12  NrOfDependants_2                                  9476 non-null   uint8  \n",
            " 13  NrOfDependants_3                                  9476 non-null   uint8  \n",
            " 14  NrOfDependants_4                                  9476 non-null   uint8  \n",
            " 15  NrOfDependants_5                                  9476 non-null   uint8  \n",
            " 16  NrOfDependants_6                                  9476 non-null   uint8  \n",
            " 17  NrOfDependants_7                                  9476 non-null   uint8  \n",
            " 18  EmploymentStatus_1                                9476 non-null   uint8  \n",
            " 19  EmploymentStatus_2                                9476 non-null   uint8  \n",
            " 20  EmploymentStatus_3                                9476 non-null   uint8  \n",
            " 21  EmploymentStatus_4                                9476 non-null   uint8  \n",
            " 22  EmploymentStatus_5                                9476 non-null   uint8  \n",
            " 23  EmploymentStatus_6                                9476 non-null   uint8  \n",
            " 24  EmploymentDurationCurrentEmployer_MoreThan5Years  9476 non-null   uint8  \n",
            " 25  EmploymentDurationCurrentEmployer_Other           9476 non-null   uint8  \n",
            " 26  EmploymentDurationCurrentEmployer_Retiree         9476 non-null   uint8  \n",
            " 27  EmploymentDurationCurrentEmployer_TrialPeriod     9476 non-null   uint8  \n",
            " 28  EmploymentDurationCurrentEmployer_UpTo1Year       9476 non-null   uint8  \n",
            " 29  EmploymentDurationCurrentEmployer_UpTo2Years      9476 non-null   uint8  \n",
            " 30  EmploymentDurationCurrentEmployer_UpTo3Years      9476 non-null   uint8  \n",
            " 31  EmploymentDurationCurrentEmployer_UpTo4Years      9476 non-null   uint8  \n",
            " 32  EmploymentDurationCurrentEmployer_UpTo5Years      9476 non-null   uint8  \n",
            "dtypes: float64(3), int64(2), uint8(28)\n",
            "memory usage: 703.3 KB\n"
          ],
          "name": "stdout"
        }
      ]
    },
    {
      "cell_type": "markdown",
      "metadata": {
        "id": "F_dyNMI5Gp3b"
      },
      "source": [
        "Jaetaan data opetus- ja testidataan. Valitaan joitakin luokittelijoita ja verrataan niiden tarkkuutta:"
      ]
    },
    {
      "cell_type": "code",
      "metadata": {
        "id": "p1uVtEiJcBWg"
      },
      "source": [
        "X_train, X_test, y_train, y_test = train_test_split(\n",
        "       X, y, test_size=0.33, random_state=31)"
      ],
      "execution_count": 25,
      "outputs": []
    },
    {
      "cell_type": "markdown",
      "metadata": {
        "id": "teiVmTDxeZQU"
      },
      "source": [
        "Mallinnetaan opetusdata ja arvioidaan tarkkuus."
      ]
    },
    {
      "cell_type": "code",
      "metadata": {
        "colab": {
          "base_uri": "https://localhost:8080/"
        },
        "id": "WtKLacefeYQf",
        "outputId": "2652d649-24e5-498d-9891-774c5dbcc9db"
      },
      "source": [
        "classifiers = [DecisionTreeClassifier(), SGDClassifier(), LogisticRegression(), SVC()]\n",
        "\n",
        "for clf in classifiers:\n",
        "  #mallinnus opetusdatalla\n",
        "  clf.fit(X=X_train, y=y_train)\n",
        "        \n",
        "  #ennusteet testidatalla\n",
        "  predictions = clf.predict(X=X_test)\n",
        "        \n",
        "  #tarkuus\n",
        "  accuracy = accuracy_score(y_test, predictions)\n",
        "        \n",
        "  print(\"\\t Classifier {}: accuracy {}.\".format(clf, accuracy))  \n",
        "\n"
      ],
      "execution_count": 26,
      "outputs": [
        {
          "output_type": "stream",
          "text": [
            "\t Classifier DecisionTreeClassifier(ccp_alpha=0.0, class_weight=None, criterion='gini',\n",
            "                       max_depth=None, max_features=None, max_leaf_nodes=None,\n",
            "                       min_impurity_decrease=0.0, min_impurity_split=None,\n",
            "                       min_samples_leaf=1, min_samples_split=2,\n",
            "                       min_weight_fraction_leaf=0.0, presort='deprecated',\n",
            "                       random_state=None, splitter='best'): accuracy 0.7209079283887468.\n",
            "\t Classifier SGDClassifier(alpha=0.0001, average=False, class_weight=None,\n",
            "              early_stopping=False, epsilon=0.1, eta0=0.0, fit_intercept=True,\n",
            "              l1_ratio=0.15, learning_rate='optimal', loss='hinge',\n",
            "              max_iter=1000, n_iter_no_change=5, n_jobs=None, penalty='l2',\n",
            "              power_t=0.5, random_state=None, shuffle=True, tol=0.001,\n",
            "              validation_fraction=0.1, verbose=0, warm_start=False): accuracy 0.7861253196930946.\n",
            "\t Classifier LogisticRegression(C=1.0, class_weight=None, dual=False, fit_intercept=True,\n",
            "                   intercept_scaling=1, l1_ratio=None, max_iter=100,\n",
            "                   multi_class='auto', n_jobs=None, penalty='l2',\n",
            "                   random_state=None, solver='lbfgs', tol=0.0001, verbose=0,\n",
            "                   warm_start=False): accuracy 0.7845268542199488.\n",
            "\t Classifier SVC(C=1.0, break_ties=False, cache_size=200, class_weight=None, coef0=0.0,\n",
            "    decision_function_shape='ovr', degree=3, gamma='scale', kernel='rbf',\n",
            "    max_iter=-1, probability=False, random_state=None, shrinking=True,\n",
            "    tol=0.001, verbose=False): accuracy 0.789002557544757.\n"
          ],
          "name": "stdout"
        }
      ]
    },
    {
      "cell_type": "markdown",
      "metadata": {
        "id": "ewT26NZNZeCH"
      },
      "source": [
        "Mallin tarkkuudeksi saatiin 0,789 eli vähän vajaa 80 % tapauksista saatiin ennustettua oikein lainanottajan maksukyky. Tarkkuus ei ole niin hyvä että sitä kannattaisi pelkästään käyttää päätöksenteossa."
      ]
    },
    {
      "cell_type": "markdown",
      "metadata": {
        "id": "fEwnX4gD3ydk"
      },
      "source": [
        "##Toimeenpano\n",
        "Analyysista nähtiin, että suurin ryhmä, joille lainoja on myönnetty ovat työttämät ja toiseksi suurin on kokoaikaisessa työssä olevat. Kuitenkin kokoaikaisessa työssä olevilla laiminlyötyjen maksujen osuus kaikista lainoista tässä ryhmässä on suuri, joten pelkkä palkansaanti ei takaa että lainanottaja kykenee maksamaan lainaa takaisin. \n",
        "\n",
        "![image.png](data:image/png;base64,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)\n",
        "\n",
        "Datasta huomattiin, että myönnetty lainamäärä ei riipu hakijan tulojen suuruudesta, ja lainan maksuajat ylittyvät osassa tapauksissa annetusta maksuajasta poiketen, jolloin myös yrityksen voittojen saaminen vaarantuu. On siis tärkeää tutkia lainanottajan taustoja ja selvittää, kuinka suuren osan tuloistaan lainanottaja pystyy laittamaan lainan takaisinmaksuun. Koneoppimismallia voi käyttää apuna päätöksenteossa, mutta koska malli ei ole kovin tarkka, ei ole järkevää käyttää sitä yksinään."
      ]
    }
  ]
}