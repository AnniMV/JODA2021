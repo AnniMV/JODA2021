{
  "nbformat": 4,
  "nbformat_minor": 0,
  "metadata": {
    "colab": {
      "name": "Oppimispk.ipynb",
      "provenance": [],
      "collapsed_sections": [],
      "toc_visible": true,
      "mount_file_id": "1ymjfEcXxmivowGJ_35KmLp5a845hBT6O",
      "authorship_tag": "ABX9TyMgSo1TjzJiKfm/SjZxwK4s",
      "include_colab_link": true
    },
    "kernelspec": {
      "name": "python3",
      "display_name": "Python 3"
    }
  },
  "cells": [
    {
      "cell_type": "markdown",
      "metadata": {
        "id": "view-in-github",
        "colab_type": "text"
      },
      "source": [
        "<a href=\"https://colab.research.google.com/github/AnniMV/JODA2021/blob/main/Oppimispk.ipynb\" target=\"_parent\"><img src=\"https://colab.research.google.com/assets/colab-badge.svg\" alt=\"Open In Colab\"/></a>"
      ]
    },
    {
      "cell_type": "markdown",
      "metadata": {
        "id": "uF0njFUEOCqW"
      },
      "source": [
        "#Viikko 1\n",
        "Tästä alkaa \"Johdanto datatieteeseen\"-kussin oppimispäiväkirja. Viikko alkoi pehmeästi johdatuksella datatieteeseen ja kurssin sisältöön ja sen suorittamiseen, ja ensivaikutelmani on, että tämä on ensimmäinen ja käytännöllisin yliopiston kurssi koko opiskeluhistoriani ajalta, jossa teorian lisäksi tulen oppimaan käytännössä eri työkalujen käyttöä, ja jolla on yhteyksiä myös \"todelliseen maailmaan\". Odotukset ovat siis korkealla kurssin suhteen, ja toivon oppivani paljon datan keräämisestä ja visualisoinnista.\n",
        "\n",
        "Kurssi alkoi kurssin suorittamisen läpikäymisellä ja siitä mitä datatiede pitää sisällään. Datatieteeseen ja data-analyytikon ominaisuuksiin kuuluu monitahoisesti useampi osa-alue, joita hallita; matematiikka ja tilastotiede, ohjelmointi- ja tietotekniset taidot, kommunikointi- ja visualisointitaidot sekä liiketoiminta- ja ongelmanratkaisutaidot. Sen sijaan että yksi henkilö hallitsisi kaikki osa-alueet laaja-alaisesti, voidaan haluttu päämäärä saavuttaa myös kokoamalla sopivasti eri kompetenssit omaava henkilöiden ryhmä, jotta käytetty tieto saadaan koottua ja esitettyä päätöksen tekoa tukevaksi. Data-analytiikassa käytetään paljon Python ohjelmointikieltä, ja Jupyter Notebook on kätevä tapa esittää Python koodia ja kommentteja. Tutustuttiin Pythonin Pandas data-analytiikkatyökaluun.\n",
        "- Hyvä data-analyytikko hallitsee useampia osa-alueita Itsellä on ainakin osasta jo tietämystä.\n",
        "- Dataa on valtavasti ja kasvavassa määrin tarjolla.\n",
        "- Datan kerääminen ja käsittely vaatii työmäärältään eniten eri analyysivaiheista.\n",
        "- Datan esittämisellä voidaan myös ohjailla ihmisten ajattelutapaa korostamalla tiettyjä osia ja jättämällä toisia osia pois.\n",
        "- Opettelen käyttämään Googlen Colabia, sen käytön etuina on tallennustilan ja laskentakapasiteetin säästäminen omalta koneelta, ja helppo tallentaminen GitHubiin. \n",
        "\n",
        "\n",
        "Tilastotiede on yksi osa-alue josta data-analyytikolla pitäisi olla tietämystä. Linkissä https://seeing-theory.brown.edu/bayesian-inference/index.html voi testata itse bayesilaista päättelyä esimerkin kautta.\n",
        "\n",
        "Osallistuin viikon opetukseen, ja aineistona käytin tiedostoa https://github.com/jodatut/2020/raw/master/koodiesimerkit/SalesJan2009.csv \n",
        "\n",
        "Koodissa tarkastellaan miten paljon eri tuotteita (Product) on tilattu eri maihin.\n",
        "\n",
        "\n"
      ]
    },
    {
      "cell_type": "code",
      "metadata": {
        "id": "ko2VmGvQ8plf",
        "colab": {
          "base_uri": "https://localhost:8080/",
          "height": 343
        },
        "outputId": "3a55a875-5252-4986-c65a-036a52167550"
      },
      "source": [
        "import pandas as pd\n",
        "import matplotlib.pyplot as plt\n",
        "\n",
        "url = 'https://github.com/jodatut/2020/raw/master/koodiesimerkit/SalesJan2009.csv'\n",
        "df = pd.read_csv(url)\n",
        "print('List of attributes:', df.columns.values.tolist())\n",
        "df.head()"
      ],
      "execution_count": null,
      "outputs": [
        {
          "output_type": "stream",
          "text": [
            "List of attributes: ['Transaction_date', 'Product', 'Price', 'Payment_Type', 'Name', 'City', 'State', 'Country', 'Account_Created', 'Last_Login', 'Latitude', 'Longitude']\n"
          ],
          "name": "stdout"
        },
        {
          "output_type": "execute_result",
          "data": {
            "text/html": [
              "<div>\n",
              "<style scoped>\n",
              "    .dataframe tbody tr th:only-of-type {\n",
              "        vertical-align: middle;\n",
              "    }\n",
              "\n",
              "    .dataframe tbody tr th {\n",
              "        vertical-align: top;\n",
              "    }\n",
              "\n",
              "    .dataframe thead th {\n",
              "        text-align: right;\n",
              "    }\n",
              "</style>\n",
              "<table border=\"1\" class=\"dataframe\">\n",
              "  <thead>\n",
              "    <tr style=\"text-align: right;\">\n",
              "      <th></th>\n",
              "      <th>Transaction_date</th>\n",
              "      <th>Product</th>\n",
              "      <th>Price</th>\n",
              "      <th>Payment_Type</th>\n",
              "      <th>Name</th>\n",
              "      <th>City</th>\n",
              "      <th>State</th>\n",
              "      <th>Country</th>\n",
              "      <th>Account_Created</th>\n",
              "      <th>Last_Login</th>\n",
              "      <th>Latitude</th>\n",
              "      <th>Longitude</th>\n",
              "    </tr>\n",
              "  </thead>\n",
              "  <tbody>\n",
              "    <tr>\n",
              "      <th>0</th>\n",
              "      <td>1/2/09 6:17</td>\n",
              "      <td>Product1</td>\n",
              "      <td>1200</td>\n",
              "      <td>Mastercard</td>\n",
              "      <td>carolina</td>\n",
              "      <td>Basildon</td>\n",
              "      <td>England</td>\n",
              "      <td>United Kingdom</td>\n",
              "      <td>1/2/09 6:00</td>\n",
              "      <td>1/2/09 6:08</td>\n",
              "      <td>51.500000</td>\n",
              "      <td>-1.116667</td>\n",
              "    </tr>\n",
              "    <tr>\n",
              "      <th>1</th>\n",
              "      <td>1/2/09 4:53</td>\n",
              "      <td>Product1</td>\n",
              "      <td>1200</td>\n",
              "      <td>Visa</td>\n",
              "      <td>Betina</td>\n",
              "      <td>Parkville</td>\n",
              "      <td>MO</td>\n",
              "      <td>United States</td>\n",
              "      <td>1/2/09 4:42</td>\n",
              "      <td>1/2/09 7:49</td>\n",
              "      <td>39.195000</td>\n",
              "      <td>-94.681940</td>\n",
              "    </tr>\n",
              "    <tr>\n",
              "      <th>2</th>\n",
              "      <td>1/2/09 13:08</td>\n",
              "      <td>Product1</td>\n",
              "      <td>1200</td>\n",
              "      <td>Mastercard</td>\n",
              "      <td>Federica e Andrea</td>\n",
              "      <td>Astoria</td>\n",
              "      <td>OR</td>\n",
              "      <td>United States</td>\n",
              "      <td>1/1/09 16:21</td>\n",
              "      <td>1/3/09 12:32</td>\n",
              "      <td>46.188060</td>\n",
              "      <td>-123.830000</td>\n",
              "    </tr>\n",
              "    <tr>\n",
              "      <th>3</th>\n",
              "      <td>1/3/09 14:44</td>\n",
              "      <td>Product1</td>\n",
              "      <td>1200</td>\n",
              "      <td>Visa</td>\n",
              "      <td>Gouya</td>\n",
              "      <td>Echuca</td>\n",
              "      <td>Victoria</td>\n",
              "      <td>Australia</td>\n",
              "      <td>9/25/05 21:13</td>\n",
              "      <td>1/3/09 14:22</td>\n",
              "      <td>-36.133333</td>\n",
              "      <td>144.750000</td>\n",
              "    </tr>\n",
              "    <tr>\n",
              "      <th>4</th>\n",
              "      <td>1/4/09 12:56</td>\n",
              "      <td>Product2</td>\n",
              "      <td>3600</td>\n",
              "      <td>Visa</td>\n",
              "      <td>Gerd W</td>\n",
              "      <td>Cahaba Heights</td>\n",
              "      <td>AL</td>\n",
              "      <td>United States</td>\n",
              "      <td>11/15/08 15:47</td>\n",
              "      <td>1/4/09 12:45</td>\n",
              "      <td>33.520560</td>\n",
              "      <td>-86.802500</td>\n",
              "    </tr>\n",
              "  </tbody>\n",
              "</table>\n",
              "</div>"
            ],
            "text/plain": [
              "  Transaction_date   Product  Price  ...    Last_Login   Latitude   Longitude\n",
              "0      1/2/09 6:17  Product1   1200  ...   1/2/09 6:08  51.500000   -1.116667\n",
              "1      1/2/09 4:53  Product1   1200  ...   1/2/09 7:49  39.195000  -94.681940\n",
              "2     1/2/09 13:08  Product1   1200  ...  1/3/09 12:32  46.188060 -123.830000\n",
              "3     1/3/09 14:44  Product1   1200  ...  1/3/09 14:22 -36.133333  144.750000\n",
              "4     1/4/09 12:56  Product2   3600  ...  1/4/09 12:45  33.520560  -86.802500\n",
              "\n",
              "[5 rows x 12 columns]"
            ]
          },
          "metadata": {
            "tags": []
          },
          "execution_count": 1
        }
      ]
    },
    {
      "cell_type": "markdown",
      "metadata": {
        "id": "AUqVQJwwGDQ_"
      },
      "source": [
        "Tarkastellaan, kuinka monta kappaletta kutakin tuotetta on myyty maittain ja yhteensä."
      ]
    },
    {
      "cell_type": "code",
      "metadata": {
        "colab": {
          "base_uri": "https://localhost:8080/"
        },
        "id": "ofaO6XZzL7Ht",
        "outputId": "5618104a-04a3-4451-8549-6a44460592b6"
      },
      "source": [
        "products = df.loc[:,[\"Country\", \"Product\"]]\n",
        "products.head()\n",
        "dfprod = products.groupby([\"Country\"])[\"Product\"].value_counts()\n",
        "dfprod\n",
        "\n"
      ],
      "execution_count": null,
      "outputs": [
        {
          "output_type": "execute_result",
          "data": {
            "text/plain": [
              "Country         Product  \n",
              "Argentina       Product1       1\n",
              "Australia       Product1      30\n",
              "                Product2       8\n",
              "Austria         Product1       6\n",
              "                Product2       1\n",
              "                            ... \n",
              "United Kingdom  Product2      10\n",
              "United States   Product1     401\n",
              "                Product2      55\n",
              "                Product3       7\n",
              "                Product3       1\n",
              "Name: Product, Length: 83, dtype: int64"
            ]
          },
          "metadata": {
            "tags": []
          },
          "execution_count": 2
        }
      ]
    },
    {
      "cell_type": "code",
      "metadata": {
        "colab": {
          "base_uri": "https://localhost:8080/"
        },
        "id": "i_pS0SqxhWYR",
        "outputId": "eeb3997c-2a89-4d3f-83c8-eb5338fafa53"
      },
      "source": [
        "\n",
        "print(products.Product.unique())\n",
        "\n",
        "number_of_prod = products[\"Product\"].value_counts()\n",
        "print(number_of_prod)"
      ],
      "execution_count": null,
      "outputs": [
        {
          "output_type": "stream",
          "text": [
            "['Product1' 'Product2' 'Product3' 'Product3 ']\n",
            "Product1     849\n",
            "Product2     136\n",
            "Product3      14\n",
            "Product3       1\n",
            "Name: Product, dtype: int64\n"
          ],
          "name": "stdout"
        }
      ]
    },
    {
      "cell_type": "code",
      "metadata": {
        "colab": {
          "base_uri": "https://localhost:8080/",
          "height": 303
        },
        "id": "8ER35wB4Dtqr",
        "outputId": "8d40b23d-856f-45c0-cf2e-faab071132eb"
      },
      "source": [
        "number_of_prod.plot.bar()\n",
        "plt.show()"
      ],
      "execution_count": null,
      "outputs": [
        {
          "output_type": "display_data",
          "data": {
            "image/png": "[encoded data removed]",
            "text/plain": [
              "<Figure size 432x288 with 1 Axes>"
            ]
          },
          "metadata": {
            "tags": [],
            "needs_background": "light"
          }
        }
      ]
    },
    {
      "cell_type": "markdown",
      "metadata": {
        "id": "7q_73Zr-WPe8"
      },
      "source": [
        "# Viikko 2\n"
      ]
    },
    {
      "cell_type": "markdown",
      "metadata": {
        "id": "FfQiXEjOJZRq"
      },
      "source": [
        "Toisen viikon aiheena on datan kerääminen ja jalostaminen.\n",
        "Datatieteen prosessimalli sisältää vaiheita. Datan keräämisvaiheessa on päätettävä mitä datalähdettä käytetään ja miten data kerätään. Datasta valitaan ydin jolla voidaan saavuttaa vastaus asetettuun kysymykseen tai ongelmaan. Analyysivaiheessa kirjoitetaan koodia jolla dataa käsitellään, tarkistetaan tuloksia. Arviointivaiheessa vertaillaan tuloksia, ja mietitään vastaako tulokset asetettuun kysymykseen, ja mietitään tarvitseeko tehdä muutoksia. Viimeiseksi, tulokset otetaan käyttöön, jotta analyysin teosta olisi hyötyä. Tulokset julkaistaan ja tulevat toimenpiteet voidaan toteuttaa ainakin osittain analyysiin nojautuen.\n",
        "\n",
        "Liiketoiminnassa analytiikkaa voidaan hyödyntää eri tasoilla; esimerkiksi seurata liiketoiminnan perustietoja ja sen kehittymistä tai käyttää ennustamaan tulevaisuuden tapahtumia. Vaikka data-analytiikka liiketoiminnan apuna on ollut puheenaihe pidempään, kaikki yritykset eivät vielä hyödynnä sitä. Puutteita voi olla datan keräämisessä, sen tallentamisessa, teknologioiden hallitsemisessa ja analysointivaiheen toteuttamisessa.\n",
        "\n",
        "Dataa voidaan kerätä verkkosivuilta ryömijöillä ja raapijoilla. Ryömijä on automatisoitu ohjelma, joka käy läpi verkkosivuja indeksoimalla haettavaa dataa, raapijalla kerätään automatisoidusti määrättyä tietoa verkkosivuilta. Käytännön toteutukset ovat usein näiden yhdistelmiä. Tälläkin tavoin kerätyn data-aineiston käytön laillisuus ja eettisyyskysymykset on huomioitava.\n",
        "\n",
        "Ennen kuin datan analysointi varsinaisesti alkaa, sitä valmistellaan ja jalostetaan käytettävämpään muotoon. Datatyypit määrittävät mitä operaatioita datalle voi tehdä. Datasta voidaan tutkia esimerkiksi, ovatko datan tyypit tarkoituksenmukaista muotoa, ovatko tyhjät arvot merkitseviä analyysin kannalta ja miten tyhjät arvot voisi tulkita.\n",
        "\n",
        "- Data-analytiikan käyttöaste yrityksessä riippuu varmasti paljon yrityksen koosta, sillä siitä riippuu, kuinka paljon yrityksellä on varaa panostaa datan käsittelyyn ja osaavaan henkilökuntaan. Voisi väittää että pienimmätkin yritykset tekevät vähintään perustason raportointia yrityksestään, mutta varsinaisesta data-analytiikasta kaikki eivät tule välttämättä taloudellisesti hyötymään.\n",
        "- Ryömijöillä ja raapijoilla saadaan kerättyä dataa verkkosivuilta.\n",
        "- Kun ryömijöitä ja raapijoita käytetään, on otettava huomioon käyttöehdot ja kohteen määrittelemät rajoitukset, jotta oma toiminta pysyy laillisuuden rajoissa.\n",
        "- Kun käytettävä aineisto on kerätty ja koottu yhteen, dataa tutkitaan ja jalostetaan käytettävämpään muotoon.\n",
        "- Dataa tutkimalla ja tarkastamalla voidaan varmistaa että datan tyypit ja sisältö vastaavat käyttötarkoitusta.\n"
      ]
    },
    {
      "cell_type": "markdown",
      "metadata": {
        "id": "_PPhWttITy5p"
      },
      "source": [
        "Toteutetaan  garnstudio.com raapija käyttäen pythonin scrapy kirjastoa. Haetaan garnstudion myymien lankojen nimet ja niiden hinnat."
      ]
    },
    {
      "cell_type": "code",
      "metadata": {
        "colab": {
          "base_uri": "https://localhost:8080/"
        },
        "id": "bqLKZxGceB2u",
        "outputId": "beeea070-6476-42f9-bcff-0d4128cc3e58"
      },
      "source": [
        "!pip install scrapy"
      ],
      "execution_count": null,
      "outputs": [
        {
          "output_type": "stream",
          "text": [
            "Collecting scrapy\n",
            "\u001b[?25l  Downloading https://files.pythonhosted.org/packages/3a/16/3c7c37caf25f91aa21db194655515718c2a15f704f9f5c59a194f5c83db0/Scrapy-2.4.1-py2.py3-none-any.whl (239kB)\n",
            "\r\u001b[K     |█▍                              | 10kB 14.4MB/s eta 0:00:01\r\u001b[K     |██▊                             | 20kB 19.1MB/s eta 0:00:01\r\u001b[K     |████                            | 30kB 15.0MB/s eta 0:00:01\r\u001b[K     |█████▌                          | 40kB 14.2MB/s eta 0:00:01\r\u001b[K     |██████▉                         | 51kB 9.0MB/s eta 0:00:01\r\u001b[K     |████████▏                       | 61kB 8.2MB/s eta 0:00:01\r\u001b[K     |█████████▋                      | 71kB 8.4MB/s eta 0:00:01\r\u001b[K     |███████████                     | 81kB 9.3MB/s eta 0:00:01\r\u001b[K     |████████████▎                   | 92kB 9.4MB/s eta 0:00:01\r\u001b[K     |█████████████▊                  | 102kB 8.5MB/s eta 0:00:01\r\u001b[K     |███████████████                 | 112kB 8.5MB/s eta 0:00:01\r\u001b[K     |████████████████▍               | 122kB 8.5MB/s eta 0:00:01\r\u001b[K     |█████████████████▊              | 133kB 8.5MB/s eta 0:00:01\r\u001b[K     |███████████████████▏            | 143kB 8.5MB/s eta 0:00:01\r\u001b[K     |████████████████████▌           | 153kB 8.5MB/s eta 0:00:01\r\u001b[K     |█████████████████████▉          | 163kB 8.5MB/s eta 0:00:01\r\u001b[K     |███████████████████████▎        | 174kB 8.5MB/s eta 0:00:01\r\u001b[K     |████████████████████████▋       | 184kB 8.5MB/s eta 0:00:01\r\u001b[K     |██████████████████████████      | 194kB 8.5MB/s eta 0:00:01\r\u001b[K     |███████████████████████████▍    | 204kB 8.5MB/s eta 0:00:01\r\u001b[K     |████████████████████████████▊   | 215kB 8.5MB/s eta 0:00:01\r\u001b[K     |██████████████████████████████  | 225kB 8.5MB/s eta 0:00:01\r\u001b[K     |███████████████████████████████▍| 235kB 8.5MB/s eta 0:00:01\r\u001b[K     |████████████████████████████████| 245kB 8.5MB/s \n",
            "\u001b[?25hCollecting w3lib>=1.17.0\n",
            "  Downloading https://files.pythonhosted.org/packages/a3/59/b6b14521090e7f42669cafdb84b0ab89301a42f1f1a82fcf5856661ea3a7/w3lib-1.22.0-py2.py3-none-any.whl\n",
            "Collecting Twisted>=17.9.0\n",
            "\u001b[?25l  Downloading https://files.pythonhosted.org/packages/f2/16/3eb9c66a7bfb5220c7bcbaaac33d359fe8a157b028959cd210983749b2e0/Twisted-21.2.0-py3-none-any.whl (3.1MB)\n",
            "\u001b[K     |████████████████████████████████| 3.1MB 15.4MB/s \n",
            "\u001b[?25hCollecting itemloaders>=1.0.1\n",
            "  Downloading https://files.pythonhosted.org/packages/b3/2b/eb2ddf7becf834679273a6f79ffdc6fbedf07c5272e2eddf412582143c0e/itemloaders-1.0.4-py3-none-any.whl\n",
            "Collecting zope.interface>=4.1.3\n",
            "\u001b[?25l  Downloading https://files.pythonhosted.org/packages/89/57/8a68360d697cf9159cba5ee35f2d25bdcda33883e8b5a997714a191a0b11/zope.interface-5.3.0-cp37-cp37m-manylinux2010_x86_64.whl (248kB)\n",
            "\u001b[K     |████████████████████████████████| 256kB 39.3MB/s \n",
            "\u001b[?25hCollecting protego>=0.1.15\n",
            "\u001b[?25l  Downloading https://files.pythonhosted.org/packages/db/6e/bf6d5e4d7cf233b785719aaec2c38f027b9c2ed980a0015ec1a1cced4893/Protego-0.1.16.tar.gz (3.2MB)\n",
            "\u001b[K     |████████████████████████████████| 3.2MB 49.0MB/s \n",
            "\u001b[?25hCollecting service-identity>=16.0.0\n",
            "  Downloading https://files.pythonhosted.org/packages/e9/7c/2195b890023e098f9618d43ebc337d83c8b38d414326685339eb024db2f6/service_identity-18.1.0-py2.py3-none-any.whl\n",
            "Collecting parsel>=1.5.0\n",
            "  Downloading https://files.pythonhosted.org/packages/23/1e/9b39d64cbab79d4362cdd7be7f5e9623d45c4a53b3f7522cd8210df52d8e/parsel-1.6.0-py2.py3-none-any.whl\n",
            "Collecting PyDispatcher>=2.0.5\n",
            "  Downloading https://files.pythonhosted.org/packages/cd/37/39aca520918ce1935bea9c356bcbb7ed7e52ad4e31bff9b943dfc8e7115b/PyDispatcher-2.0.5.tar.gz\n",
            "Collecting pyOpenSSL>=16.2.0\n",
            "\u001b[?25l  Downloading https://files.pythonhosted.org/packages/b2/5e/06351ede29fd4899782ad335c2e02f1f862a887c20a3541f17c3fa1a3525/pyOpenSSL-20.0.1-py2.py3-none-any.whl (54kB)\n",
            "\u001b[K     |████████████████████████████████| 61kB 6.8MB/s \n",
            "\u001b[?25hRequirement already satisfied: lxml>=3.5.0; platform_python_implementation == \"CPython\" in /usr/local/lib/python3.7/dist-packages (from scrapy) (4.2.6)\n",
            "Collecting cssselect>=0.9.1\n",
            "  Downloading https://files.pythonhosted.org/packages/3b/d4/3b5c17f00cce85b9a1e6f91096e1cc8e8ede2e1be8e96b87ce1ed09e92c5/cssselect-1.1.0-py2.py3-none-any.whl\n",
            "Collecting itemadapter>=0.1.0\n",
            "  Downloading https://files.pythonhosted.org/packages/88/83/ab33780fd93278e699561d61862d27343c95d3fe0a0081acd73e8e26a649/itemadapter-0.2.0-py3-none-any.whl\n",
            "Collecting cryptography>=2.0\n",
            "\u001b[?25l  Downloading https://files.pythonhosted.org/packages/b2/26/7af637e6a7e87258b963f1731c5982fb31cd507f0d90d91836e446955d02/cryptography-3.4.7-cp36-abi3-manylinux2014_x86_64.whl (3.2MB)\n",
            "\u001b[K     |████████████████████████████████| 3.2MB 50.8MB/s \n",
            "\u001b[?25hCollecting queuelib>=1.4.2\n",
            "  Downloading https://files.pythonhosted.org/packages/4c/85/ae64e9145f39dd6d14f8af3fa809a270ef3729f3b90b3c0cf5aa242ab0d4/queuelib-1.5.0-py2.py3-none-any.whl\n",
            "Requirement already satisfied: six>=1.4.1 in /usr/local/lib/python3.7/dist-packages (from w3lib>=1.17.0->scrapy) (1.15.0)\n",
            "Collecting Automat>=0.8.0\n",
            "  Downloading https://files.pythonhosted.org/packages/dd/83/5f6f3c1a562674d65efc320257bdc0873ec53147835aeef7762fe7585273/Automat-20.2.0-py2.py3-none-any.whl\n",
            "Collecting incremental>=16.10.1\n",
            "  Downloading https://files.pythonhosted.org/packages/99/3b/4f80dd10cb716f3a9e22ae88f026d25c47cc3fdf82c2747f3d59c98e4ff1/incremental-21.3.0-py2.py3-none-any.whl\n",
            "Collecting hyperlink>=17.1.1\n",
            "\u001b[?25l  Downloading https://files.pythonhosted.org/packages/6e/aa/8caf6a0a3e62863cbb9dab27135660acba46903b703e224f14f447e57934/hyperlink-21.0.0-py2.py3-none-any.whl (74kB)\n",
            "\u001b[K     |████████████████████████████████| 81kB 7.7MB/s \n",
            "\u001b[?25hRequirement already satisfied: attrs>=19.2.0 in /usr/local/lib/python3.7/dist-packages (from Twisted>=17.9.0->scrapy) (20.3.0)\n",
            "Collecting constantly>=15.1\n",
            "  Downloading https://files.pythonhosted.org/packages/b9/65/48c1909d0c0aeae6c10213340ce682db01b48ea900a7d9fce7a7910ff318/constantly-15.1.0-py2.py3-none-any.whl\n",
            "Collecting jmespath>=0.9.5\n",
            "  Downloading https://files.pythonhosted.org/packages/07/cb/5f001272b6faeb23c1c9e0acc04d48eaaf5c862c17709d20e3469c6e0139/jmespath-0.10.0-py2.py3-none-any.whl\n",
            "Requirement already satisfied: setuptools in /usr/local/lib/python3.7/dist-packages (from zope.interface>=4.1.3->scrapy) (54.2.0)\n",
            "Requirement already satisfied: pyasn1-modules in /usr/local/lib/python3.7/dist-packages (from service-identity>=16.0.0->scrapy) (0.2.8)\n",
            "Requirement already satisfied: pyasn1 in /usr/local/lib/python3.7/dist-packages (from service-identity>=16.0.0->scrapy) (0.4.8)\n",
            "Requirement already satisfied: cffi>=1.12 in /usr/local/lib/python3.7/dist-packages (from cryptography>=2.0->scrapy) (1.14.5)\n",
            "Requirement already satisfied: idna>=2.5 in /usr/local/lib/python3.7/dist-packages (from hyperlink>=17.1.1->Twisted>=17.9.0->scrapy) (2.10)\n",
            "Requirement already satisfied: pycparser in /usr/local/lib/python3.7/dist-packages (from cffi>=1.12->cryptography>=2.0->scrapy) (2.20)\n",
            "Building wheels for collected packages: protego, PyDispatcher\n",
            "  Building wheel for protego (setup.py) ... \u001b[?25l\u001b[?25hdone\n",
            "  Created wheel for protego: filename=Protego-0.1.16-cp37-none-any.whl size=7766 sha256=a236d68a5aa3e15698bcfaa8ad165fb799c78a35b020ad5fe2953742f1419a5d\n",
            "  Stored in directory: /root/.cache/pip/wheels/51/01/d1/4a2286a976dccd025ba679acacfe37320540df0f2283ecab12\n",
            "  Building wheel for PyDispatcher (setup.py) ... \u001b[?25l\u001b[?25hdone\n",
            "  Created wheel for PyDispatcher: filename=PyDispatcher-2.0.5-cp37-none-any.whl size=11517 sha256=b10bd68e9eac716163c5b2e8920a1152c4e4705d9f5f40b73be64c01f9f3e9f5\n",
            "  Stored in directory: /root/.cache/pip/wheels/88/99/96/cfef6665f9cb1522ee6757ae5955feedf2fe25f1737f91fa7f\n",
            "Successfully built protego PyDispatcher\n",
            "Installing collected packages: w3lib, zope.interface, Automat, incremental, hyperlink, constantly, Twisted, itemadapter, jmespath, cssselect, parsel, itemloaders, protego, cryptography, service-identity, PyDispatcher, pyOpenSSL, queuelib, scrapy\n",
            "Successfully installed Automat-20.2.0 PyDispatcher-2.0.5 Twisted-21.2.0 constantly-15.1.0 cryptography-3.4.7 cssselect-1.1.0 hyperlink-21.0.0 incremental-21.3.0 itemadapter-0.2.0 itemloaders-1.0.4 jmespath-0.10.0 parsel-1.6.0 protego-0.1.16 pyOpenSSL-20.0.1 queuelib-1.5.0 scrapy-2.4.1 service-identity-18.1.0 w3lib-1.22.0 zope.interface-5.3.0\n"
          ],
          "name": "stdout"
        }
      ]
    },
    {
      "cell_type": "code",
      "metadata": {
        "id": "-4QGcT77Rh55",
        "colab": {
          "base_uri": "https://localhost:8080/"
        },
        "outputId": "cd6483af-5aa6-488b-ac04-1a3c7079192e"
      },
      "source": [
        "!scrapy genspider garnstudio_scraper garnstudio.com"
      ],
      "execution_count": null,
      "outputs": [
        {
          "output_type": "stream",
          "text": [
            "Created spider 'garnstudio_scraper' using template 'basic' \n"
          ],
          "name": "stdout"
        }
      ]
    },
    {
      "cell_type": "markdown",
      "metadata": {
        "id": "F_RHA82mkvap"
      },
      "source": [
        "Raapija on seuraavanlainen:"
      ]
    },
    {
      "cell_type": "code",
      "metadata": {
        "id": "LPbh_r8aXRP2"
      },
      "source": [
        "import scrapy\n",
        "\n",
        "\n",
        "class GarnstudioScraperSpider(scrapy.Spider):\n",
        "    name = 'garnstudio_scraper'\n",
        "    allowed_domains = ['garnstudio.com']\n",
        "    start_urls = ['https://www.garnstudio.com/yarns.php?cid=11']\n",
        "\n",
        "    def parse(self, response):\n",
        "        yarns = response.css('.prod_desc > h3').css('a::text').extract()\n",
        "        prices = response.css('.price > p').css('strong::text').extract()\n",
        "        for i in range(len(yarns)):\n",
        "          yarn_prices = {\n",
        "              'yarn' : yarns[i],\n",
        "              'price' : prices[i]\n",
        "          }         \n",
        "          yield yarn_prices\n"
      ],
      "execution_count": null,
      "outputs": []
    },
    {
      "cell_type": "code",
      "metadata": {
        "id": "Qwxwr1foZcTb",
        "colab": {
          "base_uri": "https://localhost:8080/"
        },
        "outputId": "1d1bdea2-fd66-40c1-a87d-715ba38158d7"
      },
      "source": [
        "!scrapy runspider garnstudio_scraper.py -o out.json"
      ],
      "execution_count": null,
      "outputs": [
        {
          "output_type": "stream",
          "text": [
            "2021-04-04 20:33:40 [scrapy.utils.log] INFO: Scrapy 2.4.1 started (bot: scrapybot)\n",
            "2021-04-04 20:33:40 [scrapy.utils.log] INFO: Versions: lxml 4.2.6.0, libxml2 2.9.8, cssselect 1.1.0, parsel 1.6.0, w3lib 1.22.0, Twisted 21.2.0, Python 3.7.10 (default, Feb 20 2021, 21:17:23) - [GCC 7.5.0], pyOpenSSL 20.0.1 (OpenSSL 1.1.1k  25 Mar 2021), cryptography 3.4.7, Platform Linux-4.19.112+-x86_64-with-Ubuntu-18.04-bionic\n",
            "2021-04-04 20:33:40 [scrapy.utils.log] DEBUG: Using reactor: twisted.internet.epollreactor.EPollReactor\n",
            "2021-04-04 20:33:40 [scrapy.crawler] INFO: Overridden settings:\n",
            "{'SPIDER_LOADER_WARN_ONLY': True}\n",
            "2021-04-04 20:33:40 [scrapy.extensions.telnet] INFO: Telnet Password: 7821b237bf11107f\n",
            "2021-04-04 20:33:40 [scrapy.middleware] INFO: Enabled extensions:\n",
            "['scrapy.extensions.corestats.CoreStats',\n",
            " 'scrapy.extensions.telnet.TelnetConsole',\n",
            " 'scrapy.extensions.memusage.MemoryUsage',\n",
            " 'scrapy.extensions.feedexport.FeedExporter',\n",
            " 'scrapy.extensions.logstats.LogStats']\n",
            "2021-04-04 20:33:40 [scrapy.middleware] INFO: Enabled downloader middlewares:\n",
            "['scrapy.downloadermiddlewares.httpauth.HttpAuthMiddleware',\n",
            " 'scrapy.downloadermiddlewares.downloadtimeout.DownloadTimeoutMiddleware',\n",
            " 'scrapy.downloadermiddlewares.defaultheaders.DefaultHeadersMiddleware',\n",
            " 'scrapy.downloadermiddlewares.useragent.UserAgentMiddleware',\n",
            " 'scrapy.downloadermiddlewares.retry.RetryMiddleware',\n",
            " 'scrapy.downloadermiddlewares.redirect.MetaRefreshMiddleware',\n",
            " 'scrapy.downloadermiddlewares.httpcompression.HttpCompressionMiddleware',\n",
            " 'scrapy.downloadermiddlewares.redirect.RedirectMiddleware',\n",
            " 'scrapy.downloadermiddlewares.cookies.CookiesMiddleware',\n",
            " 'scrapy.downloadermiddlewares.httpproxy.HttpProxyMiddleware',\n",
            " 'scrapy.downloadermiddlewares.stats.DownloaderStats']\n",
            "2021-04-04 20:33:40 [scrapy.middleware] INFO: Enabled spider middlewares:\n",
            "['scrapy.spidermiddlewares.httperror.HttpErrorMiddleware',\n",
            " 'scrapy.spidermiddlewares.offsite.OffsiteMiddleware',\n",
            " 'scrapy.spidermiddlewares.referer.RefererMiddleware',\n",
            " 'scrapy.spidermiddlewares.urllength.UrlLengthMiddleware',\n",
            " 'scrapy.spidermiddlewares.depth.DepthMiddleware']\n",
            "2021-04-04 20:33:40 [scrapy.middleware] INFO: Enabled item pipelines:\n",
            "[]\n",
            "2021-04-04 20:33:40 [scrapy.core.engine] INFO: Spider opened\n",
            "2021-04-04 20:33:40 [scrapy.extensions.logstats] INFO: Crawled 0 pages (at 0 pages/min), scraped 0 items (at 0 items/min)\n",
            "2021-04-04 20:33:40 [scrapy.extensions.telnet] INFO: Telnet console listening on 127.0.0.1:6023\n",
            "2021-04-04 20:33:44 [scrapy.core.engine] DEBUG: Crawled (200) <GET https://www.garnstudio.com/yarns.php?cid=11> (referer: None)\n",
            "2021-04-04 20:33:44 [scrapy.core.scraper] DEBUG: Scraped from <200 https://www.garnstudio.com/yarns.php?cid=11>\n",
            "{'yarn': 'DROPS Air', 'price': '5.70 EUR'}\n",
            "2021-04-04 20:33:44 [scrapy.core.scraper] DEBUG: Scraped from <200 https://www.garnstudio.com/yarns.php?cid=11>\n",
            "{'yarn': 'DROPS Alaska', 'price': '2.40 EUR'}\n",
            "2021-04-04 20:33:44 [scrapy.core.scraper] DEBUG: Scraped from <200 https://www.garnstudio.com/yarns.php?cid=11>\n",
            "{'yarn': 'DROPS Alpaca', 'price': '4.00 EUR'}\n",
            "2021-04-04 20:33:44 [scrapy.core.scraper] DEBUG: Scraped from <200 https://www.garnstudio.com/yarns.php?cid=11>\n",
            "{'yarn': 'DROPS Alpaca Bouclé', 'price': '3.80 EUR'}\n",
            "2021-04-04 20:33:44 [scrapy.core.scraper] DEBUG: Scraped from <200 https://www.garnstudio.com/yarns.php?cid=11>\n",
            "{'yarn': 'DROPS Andes', 'price': '5.40 EUR'}\n",
            "2021-04-04 20:33:44 [scrapy.core.scraper] DEBUG: Scraped from <200 https://www.garnstudio.com/yarns.php?cid=11>\n",
            "{'yarn': 'DROPS Baby Merino', 'price': '3.80 EUR'}\n",
            "2021-04-04 20:33:44 [scrapy.core.scraper] DEBUG: Scraped from <200 https://www.garnstudio.com/yarns.php?cid=11>\n",
            "{'yarn': 'DROPS BabyAlpaca Silk', 'price': '6.10 EUR'}\n",
            "2021-04-04 20:33:44 [scrapy.core.scraper] DEBUG: Scraped from <200 https://www.garnstudio.com/yarns.php?cid=11>\n",
            "{'yarn': 'DROPS Belle', 'price': '2.40 EUR'}\n",
            "2021-04-04 20:33:44 [scrapy.core.scraper] DEBUG: Scraped from <200 https://www.garnstudio.com/yarns.php?cid=11>\n",
            "{'yarn': 'DROPS Big Delight', 'price': '7.10 EUR'}\n",
            "2021-04-04 20:33:44 [scrapy.core.scraper] DEBUG: Scraped from <200 https://www.garnstudio.com/yarns.php?cid=11>\n",
            "{'yarn': 'DROPS Big Merino', 'price': '3.80 EUR'}\n",
            "2021-04-04 20:33:44 [scrapy.core.scraper] DEBUG: Scraped from <200 https://www.garnstudio.com/yarns.php?cid=11>\n",
            "{'yarn': 'DROPS Bomull-Lin', 'price': '3.10 EUR'}\n",
            "2021-04-04 20:33:44 [scrapy.core.scraper] DEBUG: Scraped from <200 https://www.garnstudio.com/yarns.php?cid=11>\n",
            "{'yarn': 'DROPS Brushed Alpaca Silk', 'price': '3.10 EUR'}\n",
            "2021-04-04 20:33:44 [scrapy.core.scraper] DEBUG: Scraped from <200 https://www.garnstudio.com/yarns.php?cid=11>\n",
            "{'yarn': 'DROPS Cotton Light', 'price': '1.50 EUR'}\n",
            "2021-04-04 20:33:44 [scrapy.core.scraper] DEBUG: Scraped from <200 https://www.garnstudio.com/yarns.php?cid=11>\n",
            "{'yarn': 'DROPS Cotton Merino', 'price': '4.00 EUR'}\n",
            "2021-04-04 20:33:44 [scrapy.core.scraper] DEBUG: Scraped from <200 https://www.garnstudio.com/yarns.php?cid=11>\n",
            "{'yarn': 'DROPS Delight', 'price': '3.60 EUR'}\n",
            "2021-04-04 20:33:44 [scrapy.core.scraper] DEBUG: Scraped from <200 https://www.garnstudio.com/yarns.php?cid=11>\n",
            "{'yarn': 'DROPS Fabel', 'price': '2.70 EUR'}\n",
            "2021-04-04 20:33:44 [scrapy.core.scraper] DEBUG: Scraped from <200 https://www.garnstudio.com/yarns.php?cid=11>\n",
            "{'yarn': 'DROPS Flora', 'price': '2.70 EUR'}\n",
            "2021-04-04 20:33:44 [scrapy.core.scraper] DEBUG: Scraped from <200 https://www.garnstudio.com/yarns.php?cid=11>\n",
            "{'yarn': 'DROPS Glitter', 'price': '2.20 EUR'}\n",
            "2021-04-04 20:33:44 [scrapy.core.scraper] DEBUG: Scraped from <200 https://www.garnstudio.com/yarns.php?cid=11>\n",
            "{'yarn': 'DROPS Karisma', 'price': '2.70 EUR'}\n",
            "2021-04-04 20:33:44 [scrapy.core.scraper] DEBUG: Scraped from <200 https://www.garnstudio.com/yarns.php?cid=11>\n",
            "{'yarn': 'DROPS Kid-Silk', 'price': '4.95 EUR'}\n",
            "2021-04-04 20:33:44 [scrapy.core.scraper] DEBUG: Scraped from <200 https://www.garnstudio.com/yarns.php?cid=11>\n",
            "{'yarn': 'DROPS Lima', 'price': '2.70 EUR'}\n",
            "2021-04-04 20:33:44 [scrapy.core.scraper] DEBUG: Scraped from <200 https://www.garnstudio.com/yarns.php?cid=11>\n",
            "{'yarn': 'DROPS Loves You 7', 'price': '1.10 EUR'}\n",
            "2021-04-04 20:33:44 [scrapy.core.scraper] DEBUG: Scraped from <200 https://www.garnstudio.com/yarns.php?cid=11>\n",
            "{'yarn': 'DROPS Loves You 8', 'price': '1.10 EUR'}\n",
            "2021-04-04 20:33:44 [scrapy.core.scraper] DEBUG: Scraped from <200 https://www.garnstudio.com/yarns.php?cid=11>\n",
            "{'yarn': 'DROPS Loves You 9', 'price': '0.90 EUR'}\n",
            "2021-04-04 20:33:44 [scrapy.core.scraper] DEBUG: Scraped from <200 https://www.garnstudio.com/yarns.php?cid=11>\n",
            "{'yarn': 'DROPS Melody', 'price': '5.30 EUR'}\n",
            "2021-04-04 20:33:44 [scrapy.core.scraper] DEBUG: Scraped from <200 https://www.garnstudio.com/yarns.php?cid=11>\n",
            "{'yarn': 'DROPS Merino Extra Fine', 'price': '3.80 EUR'}\n",
            "2021-04-04 20:33:44 [scrapy.core.scraper] DEBUG: Scraped from <200 https://www.garnstudio.com/yarns.php?cid=11>\n",
            "{'yarn': 'DROPS Muskat', 'price': '2.30 EUR'}\n",
            "2021-04-04 20:33:44 [scrapy.core.scraper] DEBUG: Scraped from <200 https://www.garnstudio.com/yarns.php?cid=11>\n",
            "{'yarn': 'DROPS Nepal', 'price': '2.80 EUR'}\n",
            "2021-04-04 20:33:44 [scrapy.core.scraper] DEBUG: Scraped from <200 https://www.garnstudio.com/yarns.php?cid=11>\n",
            "{'yarn': 'DROPS Nord', 'price': '2.80 EUR'}\n",
            "2021-04-04 20:33:44 [scrapy.core.scraper] DEBUG: Scraped from <200 https://www.garnstudio.com/yarns.php?cid=11>\n",
            "{'yarn': 'DROPS Paris', 'price': '1.35 EUR'}\n",
            "2021-04-04 20:33:44 [scrapy.core.scraper] DEBUG: Scraped from <200 https://www.garnstudio.com/yarns.php?cid=11>\n",
            "{'yarn': 'DROPS Polaris', 'price': '5.10 EUR'}\n",
            "2021-04-04 20:33:44 [scrapy.core.scraper] DEBUG: Scraped from <200 https://www.garnstudio.com/yarns.php?cid=11>\n",
            "{'yarn': 'DROPS Puna', 'price': '3.40 EUR'}\n",
            "2021-04-04 20:33:44 [scrapy.core.scraper] DEBUG: Scraped from <200 https://www.garnstudio.com/yarns.php?cid=11>\n",
            "{'yarn': 'DROPS Safran', 'price': '1.70 EUR'}\n",
            "2021-04-04 20:33:44 [scrapy.core.scraper] DEBUG: Scraped from <200 https://www.garnstudio.com/yarns.php?cid=11>\n",
            "{'yarn': 'DROPS Sky', 'price': '5.90 EUR'}\n",
            "2021-04-04 20:33:44 [scrapy.core.scraper] DEBUG: Scraped from <200 https://www.garnstudio.com/yarns.php?cid=11>\n",
            "{'yarn': 'DROPS Snow', 'price': '2.40 EUR'}\n",
            "2021-04-04 20:33:44 [scrapy.core.scraper] DEBUG: Scraped from <200 https://www.garnstudio.com/yarns.php?cid=11>\n",
            "{'yarn': 'DROPS Wish', 'price': '5.70 EUR'}\n",
            "2021-04-04 20:33:44 [scrapy.core.engine] INFO: Closing spider (finished)\n",
            "2021-04-04 20:33:44 [scrapy.extensions.feedexport] INFO: Stored json feed (36 items) in: out.json\n",
            "2021-04-04 20:33:44 [scrapy.statscollectors] INFO: Dumping Scrapy stats:\n",
            "{'downloader/request_bytes': 234,\n",
            " 'downloader/request_count': 1,\n",
            " 'downloader/request_method_count/GET': 1,\n",
            " 'downloader/response_bytes': 9107,\n",
            " 'downloader/response_count': 1,\n",
            " 'downloader/response_status_count/200': 1,\n",
            " 'elapsed_time_seconds': 3.366506,\n",
            " 'finish_reason': 'finished',\n",
            " 'finish_time': datetime.datetime(2021, 4, 4, 20, 33, 44, 150824),\n",
            " 'item_scraped_count': 36,\n",
            " 'log_count/DEBUG': 37,\n",
            " 'log_count/INFO': 11,\n",
            " 'memusage/max': 106328064,\n",
            " 'memusage/startup': 106328064,\n",
            " 'response_received_count': 1,\n",
            " 'scheduler/dequeued': 1,\n",
            " 'scheduler/dequeued/memory': 1,\n",
            " 'scheduler/enqueued': 1,\n",
            " 'scheduler/enqueued/memory': 1,\n",
            " 'start_time': datetime.datetime(2021, 4, 4, 20, 33, 40, 784318)}\n",
            "2021-04-04 20:33:44 [scrapy.core.engine] INFO: Spider closed (finished)\n"
          ],
          "name": "stdout"
        }
      ]
    },
    {
      "cell_type": "markdown",
      "metadata": {
        "id": "3DcRDwc2lHB3"
      },
      "source": [
        "Haetut tiedot ovat out.json-tiedostossa.\n",
        "\n",
        "[\n",
        "{\"yarn\": \"DROPS Air\", \"price\": \"5.70 EUR\"},\n",
        "{\"yarn\": \"DROPS Alaska\", \"price\": \"2.40 EUR\"},\n",
        "{\"yarn\": \"DROPS Alpaca\", \"price\": \"4.00 EUR\"},\n",
        "{\"yarn\": \"DROPS Alpaca Boucl\\u00e9\", \"price\": \"3.80 EUR\"},\n",
        "{\"yarn\": \"DROPS Andes\", \"price\": \"5.40 EUR\"},\n",
        "{\"yarn\": \"DROPS Baby Merino\", \"price\": \"3.80 EUR\"},\n",
        "{\"yarn\": \"DROPS BabyAlpaca Silk\", \"price\": \"6.10 EUR\"},\n",
        "{\"yarn\": \"DROPS Belle\", \"price\": \"2.40 EUR\"},\n",
        "{\"yarn\": \"DROPS Big Delight\", \"price\": \"7.10 EUR\"},\n",
        "{\"yarn\": \"DROPS Big Merino\", \"price\": \"3.80 EUR\"},\n",
        "{\"yarn\": \"DROPS Bomull-Lin\", \"price\": \"3.10 EUR\"},\n",
        "{\"yarn\": \"DROPS Brushed Alpaca Silk\", \"price\": \"3.10 EUR\"},\n",
        "{\"yarn\": \"DROPS Cotton Light\", \"price\": \"1.50 EUR\"},\n",
        "{\"yarn\": \"DROPS Cotton Merino\", \"price\": \"4.00 EUR\"},\n",
        "{\"yarn\": \"DROPS Delight\", \"price\": \"3.60 EUR\"},\n",
        "{\"yarn\": \"DROPS Fabel\", \"price\": \"2.70 EUR\"},\n",
        "{\"yarn\": \"DROPS Flora\", \"price\": \"2.70 EUR\"},\n",
        "{\"yarn\": \"DROPS Glitter\", \"price\": \"2.20 EUR\"},\n",
        "{\"yarn\": \"DROPS Karisma\", \"price\": \"2.70 EUR\"},\n",
        "{\"yarn\": \"DROPS Kid-Silk\", \"price\": \"4.95 EUR\"},\n",
        "{\"yarn\": \"DROPS Lima\", \"price\": \"2.70 EUR\"},\n",
        "{\"yarn\": \"DROPS Loves You 7\", \"price\": \"1.10 EUR\"},\n",
        "{\"yarn\": \"DROPS Loves You 8\", \"price\": \"1.10 EUR\"},\n",
        "{\"yarn\": \"DROPS Loves You 9\", \"price\": \"0.90 EUR\"},\n",
        "{\"yarn\": \"DROPS Melody\", \"price\": \"5.30 EUR\"},\n",
        "{\"yarn\": \"DROPS Merino Extra Fine\", \"price\": \"3.80 EUR\"},\n",
        "{\"yarn\": \"DROPS Muskat\", \"price\": \"2.30 EUR\"},\n",
        "{\"yarn\": \"DROPS Nepal\", \"price\": \"2.80 EUR\"},\n",
        "{\"yarn\": \"DROPS Nord\", \"price\": \"2.80 EUR\"},\n",
        "{\"yarn\": \"DROPS Paris\", \"price\": \"1.35 EUR\"},\n",
        "{\"yarn\": \"DROPS Polaris\", \"price\": \"5.10 EUR\"},\n",
        "{\"yarn\": \"DROPS Puna\", \"price\": \"3.40 EUR\"},\n",
        "{\"yarn\": \"DROPS Safran\", \"price\": \"1.70 EUR\"},\n",
        "{\"yarn\": \"DROPS Sky\", \"price\": \"5.90 EUR\"},\n",
        "{\"yarn\": \"DROPS Snow\", \"price\": \"2.40 EUR\"},\n",
        "{\"yarn\": \"DROPS Wish\", \"price\": \"5.70 EUR\"}\n"
      ]
    },
    {
      "cell_type": "markdown",
      "metadata": {
        "id": "ka9RU8JpR616"
      },
      "source": [
        "# Viikko 3"
      ]
    },
    {
      "cell_type": "markdown",
      "metadata": {
        "id": "mRw0_cfjSHm3"
      },
      "source": [
        "Koneoppiminen on tekoälyn osa-alue ja se voidaan jaotella ohjattuun, ohjaamattomaan ja vahvistettuun oppimiseen. \n",
        "\n",
        "Ohjatulla oppimisella tarkoitetaan tilannetta, jossa koneelle opetetaan opetusdatalla ennustamaan jotakin tapahtumaa. Usein data on jaettu kahteen osaan niin että testidatalla voidaan tarkistaa opetusvaiheen mallin toimivuus. Käytännön sovellusten esimerkkeinä tästä voisi mainita asiakaskäyttäymisen ennustaminen ja tuotesuosittelu asiakkaalle. Ohjaamattomassa oppimisessa dataa ei ole luokiteltu, vaan se pyritään kuvaamaan oppimalla jokin dataan sopiva malli. Vahvistettu oppiminen perustuu ajatukseen, jossa ympäristö antaa positiivisen tai negatiivisen palautteen, ja algoritmi pyrkii löytämään ratkaisun joka antaa eniten posiitiivista palautetta.\n",
        "\n",
        "Ohjatussa koneoppimisessa piirteiden erottaminen on keskeinen vaihe mallin kehittämisvaiheessa. Oikein löydetyillä piirteillä voi vaikuttaa algoritmin suorituskykyyn parantavasti, ja toisaalta huonosti valitut piirteet saavat aikaiseksi heikon algoritmin. Piirteet erotellaan datasta ennen opetusdatan käyttöä. Mallin suoritusta arvioidaan testidatalla ja tarvittaessa valitaan uusia piirteitä, ja testataan taas algoritmin toimivuutta.\n",
        "\n",
        "\n",
        "- On ilmeistä, että ilman kunnon datamäärää, järkevää analyysiä ei voida tehdä, joten analyysin teko alkaa  kattavan aineiston keräämisellä ja ylläpidolla.\n",
        "- Nykyisin vallitsevana teknologiana käytetään tilastollista oppimista, jota on esimerkiksi koneoppiminen.\n",
        "- Piirteiden erottamisella on merkittävä osuus algoritmin toimivuuden kannalta.\n",
        "- Varsinaisia tekoälysysteemejä ei ole vielä kehitetty, tai julkaistu. \n",
        "- Lineaariregressio on yksinkertainen ohjatun oppimisen menetelmä. Data-alueen ulkopuolelta ennustaminen on epävarmempaa, sillä ei ole näyttöä siitä käyttäytyykö selitettävä muuttuja lineaarisesti tutkitun alueen ulkopuolella.\n",
        "\n",
        "Tekoälyjärjestelmiä on olemassa monentasoisia, mutta yhdistävänä tekijänä on se että ne ovat kaikki ihmisen kehittelemiä ja ne vaativat paljon ihmistyötä toimiakseen.  Se synnyttää erilaisia rutiinitehtäviä, joita suorittavat työntekijät ympäri maailmaa. Dokumentti https://yle.fi/aihe/artikkeli/2020/04/23/ulkolinja-nakymattomat-tyontekijat-alipalkatut-avustajat-koulivat-tekoalya-ja kertoo alipalkatuista ja näkymättömäksi jääneistä internetin työntekijöistä, jotka omalta osaltaan antavat panoksensa yrityksille ja teknologialle halpaan hintaan."
      ]
    },
    {
      "cell_type": "markdown",
      "metadata": {
        "id": "3ri4i8OYBxph"
      },
      "source": [
        "Osallistuin opetukseen. Datana käytän kagglesta ladattua diabetes datasettiä, https://www.kaggle.com/tigganeha4/diabetes-dataset-2019."
      ]
    },
    {
      "cell_type": "code",
      "metadata": {
        "colab": {
          "base_uri": "https://localhost:8080/"
        },
        "id": "2ZTxz_9MN50T",
        "outputId": "5bc4ffb8-bbea-498e-a4c1-31b791130358"
      },
      "source": [
        "\n",
        "!pip install sklearn\n",
        "!pip install numpy"
      ],
      "execution_count": null,
      "outputs": [
        {
          "output_type": "stream",
          "text": [
            "Requirement already satisfied: sklearn in /usr/local/lib/python3.7/dist-packages (0.0)\n",
            "Requirement already satisfied: scikit-learn in /usr/local/lib/python3.7/dist-packages (from sklearn) (0.22.2.post1)\n",
            "Requirement already satisfied: joblib>=0.11 in /usr/local/lib/python3.7/dist-packages (from scikit-learn->sklearn) (1.0.1)\n",
            "Requirement already satisfied: numpy>=1.11.0 in /usr/local/lib/python3.7/dist-packages (from scikit-learn->sklearn) (1.19.5)\n",
            "Requirement already satisfied: scipy>=0.17.0 in /usr/local/lib/python3.7/dist-packages (from scikit-learn->sklearn) (1.4.1)\n",
            "Requirement already satisfied: numpy in /usr/local/lib/python3.7/dist-packages (1.19.5)\n"
          ],
          "name": "stdout"
        }
      ]
    },
    {
      "cell_type": "code",
      "metadata": {
        "colab": {
          "base_uri": "https://localhost:8080/",
          "height": 309
        },
        "id": "KYLVJwB6f-cw",
        "outputId": "7cac4b98-15ca-4bb7-b919-6673fb34d8d9"
      },
      "source": [
        "import pandas as pd\n",
        "import numpy as np\n",
        "from sklearn import preprocessing\n",
        "from sklearn.impute import SimpleImputer\n",
        "\n",
        "df=pd.read_csv('diabetes_dataset__2019.csv')\n",
        "df.head()\n"
      ],
      "execution_count": null,
      "outputs": [
        {
          "output_type": "execute_result",
          "data": {
            "text/html": [
              "<div>\n",
              "<style scoped>\n",
              "    .dataframe tbody tr th:only-of-type {\n",
              "        vertical-align: middle;\n",
              "    }\n",
              "\n",
              "    .dataframe tbody tr th {\n",
              "        vertical-align: top;\n",
              "    }\n",
              "\n",
              "    .dataframe thead th {\n",
              "        text-align: right;\n",
              "    }\n",
              "</style>\n",
              "<table border=\"1\" class=\"dataframe\">\n",
              "  <thead>\n",
              "    <tr style=\"text-align: right;\">\n",
              "      <th></th>\n",
              "      <th>Age</th>\n",
              "      <th>Gender</th>\n",
              "      <th>Family_Diabetes</th>\n",
              "      <th>highBP</th>\n",
              "      <th>PhysicallyActive</th>\n",
              "      <th>BMI</th>\n",
              "      <th>Smoking</th>\n",
              "      <th>Alcohol</th>\n",
              "      <th>Sleep</th>\n",
              "      <th>SoundSleep</th>\n",
              "      <th>RegularMedicine</th>\n",
              "      <th>JunkFood</th>\n",
              "      <th>Stress</th>\n",
              "      <th>BPLevel</th>\n",
              "      <th>Pregancies</th>\n",
              "      <th>Pdiabetes</th>\n",
              "      <th>UriationFreq</th>\n",
              "      <th>Diabetic</th>\n",
              "    </tr>\n",
              "  </thead>\n",
              "  <tbody>\n",
              "    <tr>\n",
              "      <th>0</th>\n",
              "      <td>50-59</td>\n",
              "      <td>Male</td>\n",
              "      <td>no</td>\n",
              "      <td>yes</td>\n",
              "      <td>one hr or more</td>\n",
              "      <td>39.0</td>\n",
              "      <td>no</td>\n",
              "      <td>no</td>\n",
              "      <td>8</td>\n",
              "      <td>6</td>\n",
              "      <td>no</td>\n",
              "      <td>occasionally</td>\n",
              "      <td>sometimes</td>\n",
              "      <td>high</td>\n",
              "      <td>0.0</td>\n",
              "      <td>0</td>\n",
              "      <td>not much</td>\n",
              "      <td>no</td>\n",
              "    </tr>\n",
              "    <tr>\n",
              "      <th>1</th>\n",
              "      <td>50-59</td>\n",
              "      <td>Male</td>\n",
              "      <td>no</td>\n",
              "      <td>yes</td>\n",
              "      <td>less than half an hr</td>\n",
              "      <td>28.0</td>\n",
              "      <td>no</td>\n",
              "      <td>no</td>\n",
              "      <td>8</td>\n",
              "      <td>6</td>\n",
              "      <td>yes</td>\n",
              "      <td>very often</td>\n",
              "      <td>sometimes</td>\n",
              "      <td>normal</td>\n",
              "      <td>0.0</td>\n",
              "      <td>0</td>\n",
              "      <td>not much</td>\n",
              "      <td>no</td>\n",
              "    </tr>\n",
              "    <tr>\n",
              "      <th>2</th>\n",
              "      <td>40-49</td>\n",
              "      <td>Male</td>\n",
              "      <td>no</td>\n",
              "      <td>no</td>\n",
              "      <td>one hr or more</td>\n",
              "      <td>24.0</td>\n",
              "      <td>no</td>\n",
              "      <td>no</td>\n",
              "      <td>6</td>\n",
              "      <td>6</td>\n",
              "      <td>no</td>\n",
              "      <td>occasionally</td>\n",
              "      <td>sometimes</td>\n",
              "      <td>normal</td>\n",
              "      <td>0.0</td>\n",
              "      <td>0</td>\n",
              "      <td>not much</td>\n",
              "      <td>no</td>\n",
              "    </tr>\n",
              "    <tr>\n",
              "      <th>3</th>\n",
              "      <td>50-59</td>\n",
              "      <td>Male</td>\n",
              "      <td>no</td>\n",
              "      <td>no</td>\n",
              "      <td>one hr or more</td>\n",
              "      <td>23.0</td>\n",
              "      <td>no</td>\n",
              "      <td>no</td>\n",
              "      <td>8</td>\n",
              "      <td>6</td>\n",
              "      <td>no</td>\n",
              "      <td>occasionally</td>\n",
              "      <td>sometimes</td>\n",
              "      <td>normal</td>\n",
              "      <td>0.0</td>\n",
              "      <td>0</td>\n",
              "      <td>not much</td>\n",
              "      <td>no</td>\n",
              "    </tr>\n",
              "    <tr>\n",
              "      <th>4</th>\n",
              "      <td>40-49</td>\n",
              "      <td>Male</td>\n",
              "      <td>no</td>\n",
              "      <td>no</td>\n",
              "      <td>less than half an hr</td>\n",
              "      <td>27.0</td>\n",
              "      <td>no</td>\n",
              "      <td>no</td>\n",
              "      <td>8</td>\n",
              "      <td>8</td>\n",
              "      <td>no</td>\n",
              "      <td>occasionally</td>\n",
              "      <td>sometimes</td>\n",
              "      <td>normal</td>\n",
              "      <td>0.0</td>\n",
              "      <td>0</td>\n",
              "      <td>not much</td>\n",
              "      <td>no</td>\n",
              "    </tr>\n",
              "  </tbody>\n",
              "</table>\n",
              "</div>"
            ],
            "text/plain": [
              "     Age Gender Family_Diabetes  ... Pdiabetes UriationFreq  Diabetic\n",
              "0  50-59   Male              no  ...         0     not much        no\n",
              "1  50-59   Male              no  ...         0     not much        no\n",
              "2  40-49   Male              no  ...         0     not much        no\n",
              "3  50-59   Male              no  ...         0     not much        no\n",
              "4  40-49   Male              no  ...         0     not much        no\n",
              "\n",
              "[5 rows x 18 columns]"
            ]
          },
          "metadata": {
            "tags": []
          },
          "execution_count": 2
        }
      ]
    },
    {
      "cell_type": "markdown",
      "metadata": {
        "id": "5xhxcUlwQj0B"
      },
      "source": [
        "Tarkastellaan sarakkeita Gender, Family_Diabetes ja Diabetic."
      ]
    },
    {
      "cell_type": "code",
      "metadata": {
        "colab": {
          "base_uri": "https://localhost:8080/"
        },
        "id": "JZL_YffvSN9c",
        "outputId": "8a58c6c2-8674-4c18-d2f1-f0a8ce7ba224"
      },
      "source": [
        "data = df.loc[:,['Gender','Family_Diabetes','BMI','Diabetic']]\n",
        "data.info()"
      ],
      "execution_count": null,
      "outputs": [
        {
          "output_type": "stream",
          "text": [
            "<class 'pandas.core.frame.DataFrame'>\n",
            "RangeIndex: 952 entries, 0 to 951\n",
            "Data columns (total 4 columns):\n",
            " #   Column           Non-Null Count  Dtype  \n",
            "---  ------           --------------  -----  \n",
            " 0   Gender           952 non-null    object \n",
            " 1   Family_Diabetes  952 non-null    object \n",
            " 2   BMI              948 non-null    float64\n",
            " 3   Diabetic         951 non-null    object \n",
            "dtypes: float64(1), object(3)\n",
            "memory usage: 29.9+ KB\n"
          ],
          "name": "stdout"
        }
      ]
    },
    {
      "cell_type": "code",
      "metadata": {
        "colab": {
          "base_uri": "https://localhost:8080/"
        },
        "id": "XcO93Q6UVaqX",
        "outputId": "23d4f7b1-6bbe-449b-fb8b-229774c17dae"
      },
      "source": [
        "data.isna().sum()"
      ],
      "execution_count": null,
      "outputs": [
        {
          "output_type": "execute_result",
          "data": {
            "text/plain": [
              "Gender             0\n",
              "Family_Diabetes    0\n",
              "BMI                4\n",
              "Diabetic           1\n",
              "dtype: int64"
            ]
          },
          "metadata": {
            "tags": []
          },
          "execution_count": 4
        }
      ]
    },
    {
      "cell_type": "markdown",
      "metadata": {
        "id": "OlwPlcvHWZ1V"
      },
      "source": [
        "Diabetic-sarakkeessa on yksi puuttuva arvo, joten poistetaan tämä rivi."
      ]
    },
    {
      "cell_type": "code",
      "metadata": {
        "id": "Q9nzReyHVjCx"
      },
      "source": [
        "data = data.dropna(subset=['Diabetic'])"
      ],
      "execution_count": null,
      "outputs": []
    },
    {
      "cell_type": "code",
      "metadata": {
        "colab": {
          "base_uri": "https://localhost:8080/"
        },
        "id": "3JNX8qmGj5n1",
        "outputId": "a2df57cb-9b50-4444-b22e-5d6e5bda0e1f"
      },
      "source": [
        "data.info()"
      ],
      "execution_count": null,
      "outputs": [
        {
          "output_type": "stream",
          "text": [
            "<class 'pandas.core.frame.DataFrame'>\n",
            "Int64Index: 951 entries, 0 to 951\n",
            "Data columns (total 4 columns):\n",
            " #   Column           Non-Null Count  Dtype  \n",
            "---  ------           --------------  -----  \n",
            " 0   Gender           951 non-null    object \n",
            " 1   Family_Diabetes  951 non-null    object \n",
            " 2   BMI              948 non-null    float64\n",
            " 3   Diabetic         951 non-null    object \n",
            "dtypes: float64(1), object(3)\n",
            "memory usage: 37.1+ KB\n"
          ],
          "name": "stdout"
        }
      ]
    },
    {
      "cell_type": "markdown",
      "metadata": {
        "id": "8OyhO0tQqhJZ"
      },
      "source": [
        "Muutetaan Diabetic-muuttujan arvot kategorisiksi arvoiksi."
      ]
    },
    {
      "cell_type": "code",
      "metadata": {
        "id": "6RATtZ60WNro"
      },
      "source": [
        "arr = preprocessing.LabelEncoder().fit_transform(data.Diabetic)\n",
        "data.Diabetic = arr"
      ],
      "execution_count": null,
      "outputs": []
    },
    {
      "cell_type": "code",
      "metadata": {
        "id": "U578YT7MKRa-"
      },
      "source": [
        "y = data.Diabetic"
      ],
      "execution_count": null,
      "outputs": []
    },
    {
      "cell_type": "code",
      "metadata": {
        "id": "HI1-lFTYCEKu"
      },
      "source": [
        "data = data.drop(columns='Diabetic')\n"
      ],
      "execution_count": null,
      "outputs": []
    },
    {
      "cell_type": "code",
      "metadata": {
        "colab": {
          "base_uri": "https://localhost:8080/"
        },
        "id": "RmLAg9WUoFaj",
        "outputId": "1d04af3e-2c07-47f5-f2e8-4744f2736c2e"
      },
      "source": [
        "data['BMI']"
      ],
      "execution_count": null,
      "outputs": [
        {
          "output_type": "execute_result",
          "data": {
            "text/plain": [
              "0      39.0\n",
              "1      28.0\n",
              "2      24.0\n",
              "3      23.0\n",
              "4      27.0\n",
              "       ... \n",
              "947    25.0\n",
              "948    27.0\n",
              "949    23.0\n",
              "950    27.0\n",
              "951    30.0\n",
              "Name: BMI, Length: 951, dtype: float64"
            ]
          },
          "metadata": {
            "tags": []
          },
          "execution_count": 9
        }
      ]
    },
    {
      "cell_type": "code",
      "metadata": {
        "id": "96Ulu3hQHnZQ"
      },
      "source": [
        "# Käytetään imputointimenetelmää puuttuviin BMI arvoihin korvaamalla ne havaittujen arvojen keskiarvolla.\n",
        "#data['BMI'] = data['BMI'].astype(float)\n",
        "imputer = SimpleImputer()\n"
      ],
      "execution_count": null,
      "outputs": []
    },
    {
      "cell_type": "code",
      "metadata": {
        "colab": {
          "base_uri": "https://localhost:8080/"
        },
        "id": "EnNIzTn7uXV6",
        "outputId": "b8199cf7-0f73-4a12-b30e-5244b8613e45"
      },
      "source": [
        "data[['BMI']] = imputer.fit_transform(data[['BMI']])\n",
        "\n",
        "\n",
        "data.isnull().sum()"
      ],
      "execution_count": null,
      "outputs": [
        {
          "output_type": "execute_result",
          "data": {
            "text/plain": [
              "Gender             0\n",
              "Family_Diabetes    0\n",
              "BMI                0\n",
              "dtype: int64"
            ]
          },
          "metadata": {
            "tags": []
          },
          "execution_count": 11
        }
      ]
    },
    {
      "cell_type": "code",
      "metadata": {
        "colab": {
          "base_uri": "https://localhost:8080/",
          "height": 578
        },
        "id": "bMcdBxhvHh7m",
        "outputId": "d08a1c2b-438f-4fd8-ed1d-0984ba441411"
      },
      "source": [
        "\n",
        "\n",
        "# Muutetaan kategoriset muuttuja dummy-arvoiksi\n",
        "\n",
        "X = pd.get_dummies(data)\n",
        "data.info()\n",
        "X.info()\n",
        "X.corr()"
      ],
      "execution_count": null,
      "outputs": [
        {
          "output_type": "stream",
          "text": [
            "<class 'pandas.core.frame.DataFrame'>\n",
            "Int64Index: 951 entries, 0 to 951\n",
            "Data columns (total 3 columns):\n",
            " #   Column           Non-Null Count  Dtype  \n",
            "---  ------           --------------  -----  \n",
            " 0   Gender           951 non-null    object \n",
            " 1   Family_Diabetes  951 non-null    object \n",
            " 2   BMI              951 non-null    float64\n",
            "dtypes: float64(1), object(2)\n",
            "memory usage: 29.7+ KB\n",
            "<class 'pandas.core.frame.DataFrame'>\n",
            "Int64Index: 951 entries, 0 to 951\n",
            "Data columns (total 5 columns):\n",
            " #   Column               Non-Null Count  Dtype  \n",
            "---  ------               --------------  -----  \n",
            " 0   BMI                  951 non-null    float64\n",
            " 1   Gender_Female        951 non-null    uint8  \n",
            " 2   Gender_Male          951 non-null    uint8  \n",
            " 3   Family_Diabetes_no   951 non-null    uint8  \n",
            " 4   Family_Diabetes_yes  951 non-null    uint8  \n",
            "dtypes: float64(1), uint8(4)\n",
            "memory usage: 18.6 KB\n"
          ],
          "name": "stdout"
        },
        {
          "output_type": "execute_result",
          "data": {
            "text/html": [
              "<div>\n",
              "<style scoped>\n",
              "    .dataframe tbody tr th:only-of-type {\n",
              "        vertical-align: middle;\n",
              "    }\n",
              "\n",
              "    .dataframe tbody tr th {\n",
              "        vertical-align: top;\n",
              "    }\n",
              "\n",
              "    .dataframe thead th {\n",
              "        text-align: right;\n",
              "    }\n",
              "</style>\n",
              "<table border=\"1\" class=\"dataframe\">\n",
              "  <thead>\n",
              "    <tr style=\"text-align: right;\">\n",
              "      <th></th>\n",
              "      <th>BMI</th>\n",
              "      <th>Gender_Female</th>\n",
              "      <th>Gender_Male</th>\n",
              "      <th>Family_Diabetes_no</th>\n",
              "      <th>Family_Diabetes_yes</th>\n",
              "    </tr>\n",
              "  </thead>\n",
              "  <tbody>\n",
              "    <tr>\n",
              "      <th>BMI</th>\n",
              "      <td>1.000000</td>\n",
              "      <td>0.119635</td>\n",
              "      <td>-0.119635</td>\n",
              "      <td>-0.114737</td>\n",
              "      <td>0.114737</td>\n",
              "    </tr>\n",
              "    <tr>\n",
              "      <th>Gender_Female</th>\n",
              "      <td>0.119635</td>\n",
              "      <td>1.000000</td>\n",
              "      <td>-1.000000</td>\n",
              "      <td>-0.096158</td>\n",
              "      <td>0.096158</td>\n",
              "    </tr>\n",
              "    <tr>\n",
              "      <th>Gender_Male</th>\n",
              "      <td>-0.119635</td>\n",
              "      <td>-1.000000</td>\n",
              "      <td>1.000000</td>\n",
              "      <td>0.096158</td>\n",
              "      <td>-0.096158</td>\n",
              "    </tr>\n",
              "    <tr>\n",
              "      <th>Family_Diabetes_no</th>\n",
              "      <td>-0.114737</td>\n",
              "      <td>-0.096158</td>\n",
              "      <td>0.096158</td>\n",
              "      <td>1.000000</td>\n",
              "      <td>-1.000000</td>\n",
              "    </tr>\n",
              "    <tr>\n",
              "      <th>Family_Diabetes_yes</th>\n",
              "      <td>0.114737</td>\n",
              "      <td>0.096158</td>\n",
              "      <td>-0.096158</td>\n",
              "      <td>-1.000000</td>\n",
              "      <td>1.000000</td>\n",
              "    </tr>\n",
              "  </tbody>\n",
              "</table>\n",
              "</div>"
            ],
            "text/plain": [
              "                          BMI  ...  Family_Diabetes_yes\n",
              "BMI                  1.000000  ...             0.114737\n",
              "Gender_Female        0.119635  ...             0.096158\n",
              "Gender_Male         -0.119635  ...            -0.096158\n",
              "Family_Diabetes_no  -0.114737  ...            -1.000000\n",
              "Family_Diabetes_yes  0.114737  ...             1.000000\n",
              "\n",
              "[5 rows x 5 columns]"
            ]
          },
          "metadata": {
            "tags": []
          },
          "execution_count": 12
        }
      ]
    },
    {
      "cell_type": "markdown",
      "metadata": {
        "id": "SOwV0aj7afYw"
      },
      "source": [
        "# Viikko 4"
      ]
    },
    {
      "cell_type": "markdown",
      "metadata": {
        "id": "5em7jm3ZanJ4"
      },
      "source": [
        "Tällä viikolla käydään läpi harjoitustyön prosessia.  [Harjoitustyön ohjeet](https://infotuni.github.io/joda2021/harjoitustyo/) löytyvät kurssin omilta sivuilta.\n",
        "\n",
        "Datatiedeprojekti lähtee liikkeelle ongelmasta tai kysymyksestä johon halutaan vastaus. Tällä luennolla keskitytään ongelman tunnistamiseen, kenelle ratkaisua haetaan ja minkälaisia ratkaisuja on jo olemassa. Lisäksi voi pohtia, minkälaisia ratkaisuja projekti tarjoaa, miten ratkaisua käytetään ja miten käyttäjät hyötyvät siitä, miten ratkaisun arvoa voi mitata, miten se vaikuttaa tulevaan toimintaan ja mitä koko projekti maksaa.\n",
        "\n",
        "Luennolla käsiteltiin  Airbnb:n majoitus- ja elämysjohtajan viikkokatsausta. Liiketoimintaongelmana on ilmennyt, että yritys on saanut negatiivista palautetta sekä vieraskäyttäytymisestä että majoituskohteista. Arviointipalautteista tehtyjen analyysien pohjalta on päädytty toimenpiteisiin, joilla lisätään palvelun laatua ja luotettavuutta.\n",
        "\n",
        "Miten mitata data-analyysin hyödyllisyyttä? Tähän on esitetty kolme kohtaa: laatu, nopeus ja robustisuus. Laadun indikaattorina voidaan käyttää esimerkiksi tuottoa, hintaa, tehokkuutta tai asiakastyytyväisyyttä. Nopeus voi auttaa saavuttamaan paremman aseman markkinoilla ja ainakin työmäärä kevenee. Hyvässä mallissa otetaan huomioon myös poikkeukset ja vaihtelevat tilanteet jotta malli on kestävä vaikka olosuhteet muuttuisivat.\n",
        "\n",
        "Miten aloittaa harjoitustyö? Todo-lista:\n",
        "- Mieti jokin kiinnostava kysymys johon haluat vastauksen.\n",
        "- Mieti onko siihen olemassa sopivaa dataa ja millä tavoin hankit sen.\n",
        "- Tutki dataa; minkälaista tietoa se sisältää? Aloita datan putsaaminen: Tarkista virheet ja tietotyypit, tarkista muuttujat ja puuttuvat arvot.\n",
        "- Rikasta dataa. Löydä keino yhdistää eri lähteistä tulevat data yhdeksi. Muuta muuttujia muotoon jotka palvelevat ongelmakysymystä paremmin.\n",
        "-Visualisointi: mieti mitkä kuvat ovat oikeasti arvokkaita. Katso vinkit jinja2, tablesorter, streamlit.\n",
        "- Aloita mallintaminen.\n",
        "\n",
        "\n",
        "Alustuksena voisi luennon alkuun käydä läpi vielä tarkemmin CRISP-DM -prosessia, mitä sillä tarkoitetaan, mikä on sen rakenne. Silloin olisi helpompi seurata esimerkkiäkin prosessin näkökulmasta.\n",
        "\n",
        "Ajatusten vaihtoa voisi heitellä myös koko ryhmän kesken kuin erillisissä breakout huoneissa. Kaikki eivät kumminkaan ole niin innokkaita osallistumaan, joten tehtävän alustus ja esimerkkien anto voisi antaa paremmin kuvan mitä tehtävissä haetaan ja saada ajatustenvaihtoa lennokkaammaksi."
      ]
    },
    {
      "cell_type": "markdown",
      "metadata": {
        "id": "KafJpR__LB86"
      },
      "source": [
        "Jatkan edellisen viikon kagglesta ladatun https://www.kaggle.com/tigganeha4/diabetes-dataset-2019 diabetes-datasetin käsittelyä. Käytetään viimeksi siivottua dataa."
      ]
    },
    {
      "cell_type": "code",
      "metadata": {
        "id": "PeSeqi7PMxN8"
      },
      "source": [
        "\n",
        "import numpy as np\n",
        "import matplotlib.pyplot as plt\n",
        "import pandas as pd\n",
        "from sklearn.model_selection import train_test_split\n",
        "from sklearn.metrics import accuracy_score\n",
        "from sklearn.linear_model import LogisticRegression, SGDClassifier\n",
        "from sklearn import preprocessing"
      ],
      "execution_count": null,
      "outputs": []
    },
    {
      "cell_type": "markdown",
      "metadata": {
        "id": "Lr4QhdBRE9yQ"
      },
      "source": [
        "Tarkastellaan ennustemallia onko henkilöllä diabetes, ja tutkitaan sen tarkkuutta."
      ]
    },
    {
      "cell_type": "code",
      "metadata": {
        "id": "EPU2EK_5IPIp",
        "colab": {
          "base_uri": "https://localhost:8080/"
        },
        "outputId": "ba59b5b0-b5d9-4741-d00e-cbe7370ec327"
      },
      "source": [
        "#Jaetaan aineisto opetus- ja testiaineistoon.\n",
        "X_train, X_test, y_train, y_test = train_test_split(X, y, test_size=0.25)\n",
        "\n",
        "# opetetaan malli opetusdatalla\n",
        "reg = LogisticRegression().fit(X_train, y_train)\n",
        "\n",
        "#ennusteet testidatalla\n",
        "predictions = reg.predict(X=X_test)\n",
        "\n",
        "#lasketaan tarkkuus\n",
        "accuracy = accuracy_score(y_test, predictions)\n",
        "\n",
        "reg2 = SGDClassifier().fit(X_train, y_train)\n",
        "accuracy2 = accuracy_score(y_test, reg2.predict(X=X_test))\n",
        "\n"
      ],
      "execution_count": null,
      "outputs": [
        {
          "output_type": "stream",
          "text": [
            "/usr/local/lib/python3.7/dist-packages/sklearn/linear_model/_logistic.py:940: ConvergenceWarning: lbfgs failed to converge (status=1):\n",
            "STOP: TOTAL NO. of ITERATIONS REACHED LIMIT.\n",
            "\n",
            "Increase the number of iterations (max_iter) or scale the data as shown in:\n",
            "    https://scikit-learn.org/stable/modules/preprocessing.html\n",
            "Please also refer to the documentation for alternative solver options:\n",
            "    https://scikit-learn.org/stable/modules/linear_model.html#logistic-regression\n",
            "  extra_warning_msg=_LOGISTIC_SOLVER_CONVERGENCE_MSG)\n"
          ],
          "name": "stderr"
        }
      ]
    },
    {
      "cell_type": "code",
      "metadata": {
        "colab": {
          "base_uri": "https://localhost:8080/"
        },
        "id": "74mRtvCuWnyU",
        "outputId": "08b2fbf2-b572-41ec-c3ec-dbfabe7ab5f5"
      },
      "source": [
        "predictions"
      ],
      "execution_count": null,
      "outputs": [
        {
          "output_type": "execute_result",
          "data": {
            "text/plain": [
              "array([1, 1, 1, 1, 1, 1, 1, 1, 1, 1, 1, 1, 1, 1, 1, 1, 1, 1, 1, 1, 2, 1,\n",
              "       1, 1, 1, 1, 1, 1, 1, 1, 1, 1, 1, 1, 1, 1, 1, 1, 1, 1, 1, 1, 1, 1,\n",
              "       1, 1, 1, 1, 1, 1, 1, 1, 1, 2, 1, 1, 1, 1, 1, 1, 1, 1, 1, 1, 1, 1,\n",
              "       1, 1, 1, 2, 1, 1, 1, 1, 2, 1, 1, 1, 1, 1, 1, 1, 1, 1, 1, 1, 1, 1,\n",
              "       1, 1, 1, 1, 1, 1, 1, 1, 1, 1, 1, 1, 1, 1, 1, 1, 1, 1, 1, 1, 1, 1,\n",
              "       1, 1, 1, 1, 1, 1, 1, 1, 1, 1, 1, 2, 1, 1, 1, 1, 1, 1, 1, 1, 1, 1,\n",
              "       1, 1, 1, 1, 1, 1, 1, 1, 1, 1, 2, 1, 1, 1, 1, 1, 1, 1, 1, 1, 1, 1,\n",
              "       1, 1, 1, 1, 1, 1, 1, 1, 1, 1, 1, 1, 1, 1, 1, 1, 1, 1, 1, 1, 1, 1,\n",
              "       1, 1, 1, 1, 1, 1, 1, 1, 1, 1, 1, 1, 1, 1, 1, 2, 1, 2, 1, 1, 1, 1,\n",
              "       1, 1, 1, 1, 1, 1, 1, 1, 1, 1, 2, 1, 1, 1, 1, 2, 2, 1, 1, 1, 1, 1,\n",
              "       1, 1, 2, 1, 1, 1, 1, 1, 1, 2, 1, 1, 1, 1, 1, 1, 1, 1])"
            ]
          },
          "metadata": {
            "tags": []
          },
          "execution_count": 16
        }
      ]
    },
    {
      "cell_type": "code",
      "metadata": {
        "id": "GUuivbaMaJm4"
      },
      "source": [
        "# Normalisoidaan vielä data ja katsotaan onko tällä merkitystä\n",
        "\n",
        "XMean = np.mean(X, axis=0)\n",
        "XDev = np.std(X, axis=0)\n",
        "XNorm = (X - XMean) / XDev\n",
        "\n"
      ],
      "execution_count": null,
      "outputs": []
    },
    {
      "cell_type": "code",
      "metadata": {
        "id": "sGg9LG32Fx-l"
      },
      "source": [
        "X_train, X_test, y_train, y_test = train_test_split(XNorm, y, test_size=0.25)\n",
        "\n",
        "# opetetaan malli opetusdatalla\n",
        "reg3 = LogisticRegression().fit(X_train, y_train)\n",
        "\n",
        "#lasketaan tarkkuus\n",
        "accuracy3 = accuracy_score(y_test, reg3.predict(X=X_test))\n",
        "\n",
        "reg4 = SGDClassifier().fit(X_train, y_train)\n",
        "accuracy4 = accuracy_score(y_test, reg4.predict(X=X_test))"
      ],
      "execution_count": null,
      "outputs": []
    },
    {
      "cell_type": "code",
      "metadata": {
        "colab": {
          "base_uri": "https://localhost:8080/"
        },
        "id": "WtgpTN2dHgGk",
        "outputId": "1ed04ba5-fc3c-47b1-801b-1057188cbd79"
      },
      "source": [
        "print(accuracy)\n",
        "print(accuracy2)\n",
        "print(accuracy3)\n",
        "print(accuracy4)"
      ],
      "execution_count": null,
      "outputs": [
        {
          "output_type": "stream",
          "text": [
            "0.7016806722689075\n",
            "0.7142857142857143\n",
            "0.7100840336134454\n",
            "0.6596638655462185\n"
          ],
          "name": "stdout"
        }
      ]
    },
    {
      "cell_type": "markdown",
      "metadata": {
        "id": "1xZrXX0mMDGg"
      },
      "source": [
        "# Viikko 5\n",
        "Vierailevana luennoitsijana oli Data Engineer Teemu Mikkonen Solitalta puhumassa luonnollisen kielen analyysistä ja datatiedeprojektista yrityspuolella. Mukana myös Solitan Timo Lehtonen. Vierailuluennon materiaali on saatavissa osoitteessa https://github.com/TeemuMikkonen/JODA-NLP.\n",
        "\n",
        "Luonnollisen kielen prosessointi (NLP) on yksi datatieteen ala, jossa luonnollisen kielen tekstiä käsitellään ja jalostetaan datatieteen analysointia varten. NLP:n tekniikoilla rakenteetonta tekstidataa luokitellaan koneille käsiteltävämpään muotoon. Sovellusalueita on esimerkiksi chatbotit, tekstien luokittelu, esim. sähköpostit, ja automaattiset konekäännökset.\n",
        "\n",
        "Esimerkkikohteena käytettiin luokitteluongelmaa, jossa ministerien vastaukset kirjallisiin kysymyksiin tulisi luokitella tehdyn mallin avulla sitä vastaavaan luokkaan.\n",
        "\n",
        "Prosessi alkaa tekstin esikäsittelyllä ja piirteiden erottamisella. Esikäsittelyllä pyritään siihen, että koneoppimisprosessissa opetusdata on laadukasta ja tasaista (malli ei esimerkiksi painota jotakin luokkaa ja teksti on helposti luokiteltavaa). Esikäsittelyvaiheita esimerkkitapauksessa olivat hukkasanojen poisto, erikoismerkkien poisto, pienet alkukirjaimet ja sanojen perusmuotoon muuttaminen. Hukkasanat tekstissä ovat sellaisia sanoja, jotka eivät tuo lisäarvoa tekstin analysointiin. Asiayhteydestä riippuu, millaiseksi lista muodostuu, mutta esim. partikkelit (kuten ja, tai, kuin, että) ovat esimerkkejä hukkasanoista.\n",
        "\n",
        "Mallin opetusvaiheessa käytetään valittua NLP-työkalua (fasttext, nltk) tekstin luokitteluun. Koneoppimisessa käytetään menetelmiä joissa sanoja käsitellään vektoreina. Vektorit auttavat löytämään paremmin sanojen merkityksiä ja kielellisiä yhteyksiä. Mallin avulla ennustetut luokat ovat vain arvioita ja sataprosenttiseen tarkkuuteen harvoin päästään, joten toimivampaa on tarkastella mihin luokkaan teksti todennäköisimmin kuuluu ja millä tarkkuudella.\n",
        "\n",
        "\n",
        "\n",
        "\n"
      ]
    },
    {
      "cell_type": "markdown",
      "metadata": {
        "id": "UA54QlyHRqnl"
      },
      "source": [
        "- Luonnollisen kielen prosessointiin on kehitetty hyödyllisiä kirjastoja ja työkaluja; ja menetelmät kehittyvät koko ajan.\n",
        "-Tekstimöykky saadaan suhteellisen selkein keinoin muokattua koneelle ymmärrettävään muotoon ja muodostettua siitä toimiva malli.\n",
        "-Olennainen vaihe prosessissa on esikäsittelyvaihe, josta oli luennolla selkeä esimerkki.\n",
        "-Koska ei ole universaalia teoriaa siitä, millä menetelmällä ja parametreilla saadaan parhaiten toimiva malli, on yhdisteltävä yritystä ja erehdystä,  iterointia, ja omaa tietämystä sopivan mallin löytymiseksi.\n",
        "- Esityksessä käytettyyn Colabin lomakkeen (forms) käyttöön täytyy itsekin tutustua paremmin, https://colab.research.google.com/notebooks/forms.ipynb\n"
      ]
    },
    {
      "cell_type": "markdown",
      "metadata": {
        "id": "6E_ocM-1WUCI"
      },
      "source": [
        "https://github.com/TeemuMikkonen/JODA-NLP\n",
        "\n",
        "https://data.solita.fi/finnish-stemming-and-lemmatization-in-python/\n",
        "\n",
        "fastText-sivusto: https://fasttext.cc/\n",
        "\n"
      ]
    },
    {
      "cell_type": "markdown",
      "metadata": {
        "id": "JoPYTGdm2xPe"
      },
      "source": [
        "Osallistuin opetukseen. Testaillaan Voikkoa tekstiotteella, joka on Ylen Uutisista kopioitu."
      ]
    },
    {
      "cell_type": "code",
      "metadata": {
        "colab": {
          "base_uri": "https://localhost:8080/",
          "height": 785
        },
        "id": "2yyYJlR5tLmH",
        "outputId": "1ab91bff-a6e6-4b4d-aa33-3e52f4be3a25"
      },
      "source": [
        "!pip install awscli"
      ],
      "execution_count": null,
      "outputs": [
        {
          "output_type": "stream",
          "text": [
            "Collecting awscli\n",
            "\u001b[?25l  Downloading https://files.pythonhosted.org/packages/e7/91/9b383d5797c0a670b3d4c156d1985823fedd437d37f872d78d0fbf196145/awscli-1.19.72.tar.gz (1.4MB)\n",
            "\u001b[K     |████████████████████████████████| 1.4MB 6.4MB/s \n",
            "\u001b[?25hCollecting botocore==1.20.72\n",
            "\u001b[?25l  Downloading https://files.pythonhosted.org/packages/54/e7/9572f20a7eabaaf1b289d1647c388dc165831478b156902539f310f08f02/botocore-1.20.72-py2.py3-none-any.whl (7.5MB)\n",
            "\u001b[K     |████████████████████████████████| 7.5MB 17.1MB/s \n",
            "\u001b[?25hCollecting docutils<0.16,>=0.10\n",
            "\u001b[?25l  Downloading https://files.pythonhosted.org/packages/22/cd/a6aa959dca619918ccb55023b4cb151949c64d4d5d55b3f4ffd7eee0c6e8/docutils-0.15.2-py3-none-any.whl (547kB)\n",
            "\u001b[K     |████████████████████████████████| 552kB 28.7MB/s \n",
            "\u001b[?25hCollecting s3transfer<0.5.0,>=0.4.0\n",
            "\u001b[?25l  Downloading https://files.pythonhosted.org/packages/63/d0/693477c688348654ddc21dcdce0817653a294aa43f41771084c25e7ff9c7/s3transfer-0.4.2-py2.py3-none-any.whl (79kB)\n",
            "\u001b[K     |████████████████████████████████| 81kB 7.2MB/s \n",
            "\u001b[?25hRequirement already satisfied: PyYAML<5.5,>=3.10 in /usr/local/lib/python3.7/dist-packages (from awscli) (3.13)\n",
            "Collecting colorama<0.4.4,>=0.2.5\n",
            "  Downloading https://files.pythonhosted.org/packages/c9/dc/45cdef1b4d119eb96316b3117e6d5708a08029992b2fee2c143c7a0a5cc5/colorama-0.4.3-py2.py3-none-any.whl\n",
            "Requirement already satisfied: rsa<4.8,>=3.1.2 in /usr/local/lib/python3.7/dist-packages (from awscli) (4.7.2)\n",
            "Collecting jmespath<1.0.0,>=0.7.1\n",
            "  Downloading https://files.pythonhosted.org/packages/07/cb/5f001272b6faeb23c1c9e0acc04d48eaaf5c862c17709d20e3469c6e0139/jmespath-0.10.0-py2.py3-none-any.whl\n",
            "Collecting urllib3<1.27,>=1.25.4\n",
            "\u001b[?25l  Downloading https://files.pythonhosted.org/packages/09/c6/d3e3abe5b4f4f16cf0dfc9240ab7ce10c2baa0e268989a4e3ec19e90c84e/urllib3-1.26.4-py2.py3-none-any.whl (153kB)\n",
            "\u001b[K     |████████████████████████████████| 153kB 49.9MB/s \n",
            "\u001b[?25hRequirement already satisfied: python-dateutil<3.0.0,>=2.1 in /usr/local/lib/python3.7/dist-packages (from botocore==1.20.72->awscli) (2.8.1)\n",
            "Requirement already satisfied: pyasn1>=0.1.3 in /usr/local/lib/python3.7/dist-packages (from rsa<4.8,>=3.1.2->awscli) (0.4.8)\n",
            "Requirement already satisfied: six>=1.5 in /usr/local/lib/python3.7/dist-packages (from python-dateutil<3.0.0,>=2.1->botocore==1.20.72->awscli) (1.15.0)\n",
            "Building wheels for collected packages: awscli\n",
            "  Building wheel for awscli (setup.py) ... \u001b[?25l\u001b[?25hdone\n",
            "  Created wheel for awscli: filename=awscli-1.19.72-py2.py3-none-any.whl size=3604125 sha256=76c5ad9a2103c2cbbd2b9ff01eb85c5aab51dca379121e3fbcc91939a9abc25d\n",
            "  Stored in directory: /root/.cache/pip/wheels/83/1d/23/6f0b3dd4b37dc202fa18bec98faba268175da4fed68ce75551\n",
            "Successfully built awscli\n",
            "\u001b[31mERROR: requests 2.23.0 has requirement urllib3!=1.25.0,!=1.25.1,<1.26,>=1.21.1, but you'll have urllib3 1.26.4 which is incompatible.\u001b[0m\n",
            "\u001b[31mERROR: datascience 0.10.6 has requirement folium==0.2.1, but you'll have folium 0.8.3 which is incompatible.\u001b[0m\n",
            "Installing collected packages: jmespath, urllib3, botocore, docutils, s3transfer, colorama, awscli\n",
            "  Found existing installation: urllib3 1.24.3\n",
            "    Uninstalling urllib3-1.24.3:\n",
            "      Successfully uninstalled urllib3-1.24.3\n",
            "  Found existing installation: docutils 0.17.1\n",
            "    Uninstalling docutils-0.17.1:\n",
            "      Successfully uninstalled docutils-0.17.1\n",
            "Successfully installed awscli-1.19.72 botocore-1.20.72 colorama-0.4.3 docutils-0.15.2 jmespath-0.10.0 s3transfer-0.4.2 urllib3-1.26.4\n"
          ],
          "name": "stdout"
        },
        {
          "output_type": "display_data",
          "data": {
            "application/vnd.colab-display-data+json": {
              "pip_warning": {
                "packages": [
                  "urllib3"
                ]
              }
            }
          },
          "metadata": {
            "tags": []
          }
        }
      ]
    },
    {
      "cell_type": "code",
      "metadata": {
        "colab": {
          "base_uri": "https://localhost:8080/"
        },
        "id": "zRH9eR5Zbmjw",
        "outputId": "37fc83bf-595c-4fa9-ce16-1fe0f7adbd31"
      },
      "source": [
        "!sudo apt -y install -y voikko-fi python-libvoikko"
      ],
      "execution_count": null,
      "outputs": [
        {
          "output_type": "stream",
          "text": [
            "Reading package lists... Done\n",
            "Building dependency tree       \n",
            "Reading state information... Done\n",
            "voikko-fi is already the newest version (2.2-1).\n",
            "python-libvoikko is already the newest version (4.1.1-1.1).\n",
            "The following package was automatically installed and is no longer required:\n",
            "  libnvidia-common-460\n",
            "Use 'sudo apt autoremove' to remove it.\n",
            "0 upgraded, 0 newly installed, 0 to remove and 34 not upgraded.\n"
          ],
          "name": "stdout"
        }
      ]
    },
    {
      "cell_type": "code",
      "metadata": {
        "id": "C3MQ-qN9gsgR"
      },
      "source": [
        "from libvoikko import Voikko\n"
      ],
      "execution_count": null,
      "outputs": []
    },
    {
      "cell_type": "code",
      "metadata": {
        "id": "KBJGZ6I4-8KY",
        "colab": {
          "base_uri": "https://localhost:8080/"
        },
        "outputId": "b40ac46c-50dd-4df5-e595-acf54b5d8c8a"
      },
      "source": [
        "#Tavutetaan tekstiote.\n",
        "v = Voikko(u\"fi\")\n",
        "\n",
        "\n",
        "hyphenated_words = []\n",
        "\n",
        "text = \"Tampereella pääsi hyppäämään raitiovaunuun maanantaista \\\n",
        "        puolestapäivästä alkaen kuka vain maksua vastaan. Kyytiin pitää tosin \\\n",
        "        ilmoittautua, ja maksu pitää hoitaa etukäteen.\"\n",
        "\n",
        "words = text.split(\" \")\n",
        "\n",
        "for word in words:\n",
        "  word = word.strip()\n",
        "  if len(word) == 0:\n",
        "    continue\n",
        "  else:\n",
        "    voikkohyph = v.hyphenate(word)\n",
        "    hyphenated_words.append(voikkohyph)\n",
        "\n",
        "print(\"Tavutettu:\",  \" \".join(hyphenated_words))\n"
      ],
      "execution_count": null,
      "outputs": [
        {
          "output_type": "stream",
          "text": [
            "Tavutettu: Tam-pe-reel-la pää-si hyp-pää-mään rai-ti-o-vau-nuun maa-nan-tais-ta puo-les-ta-päi-väs-tä al-ka-en ku-ka vain mak-su-a vas-taan. Kyy-tiin pi-tää to-sin il-moit-tau-tu-a, ja mak-su pi-tää hoi-taa e-tu-kä-teen.\n"
          ],
          "name": "stdout"
        }
      ]
    },
    {
      "cell_type": "markdown",
      "metadata": {
        "id": "jD4kEszuUIr_"
      },
      "source": [
        "#Viikko 6\n",
        "Perehdytään ohjaamattomaan koneoppimiseen ja mietitään miten se eroaa ohjatusta oppimisesta. Ohjatussa koneoppimisessa pyritään ennustamaan y kun annettuna on X, mutta on tapauksia, joissa data koostuu merkitsemättömistä datajoukoista. Tällöin tarvitaan ohjaamatonta koneoppimista ja analyysissä pyritään löytämään datasta yhdistäviä rakenteita ja ryhmiä ilman ennakko-oletuksia datan luokittelusta. Ohjaamattoman oppimisen menetelmiä ovat mm. ryvästäminen, assosiaatiosäännöt, aihemallinnus ja ulottuvuuksien vähentäminen.\n",
        "\n",
        "**Ryvästäminen** Luennolla käytiin läpi esimerkki ryvästämisestä K-Means -algoritmilla. Ryvästämisellä tarkoitetaan sitä että data ryhmitellään samankaltaisuuden perusteella. K-Means analyysissä käytetään hyväksi datapisteiden mitattavaa etäisyyttä k-ryppään keskuspisteestä. Rypäs muodostuu datapisteistä, jotka ovat lähimpänä ryppään keskuspistettä.\n",
        "\n",
        "K-Means ryvästämisessä käytetään siis vain numeerisia arvoja sisältäviä muuttujia. Kuten muissakin analyyseissa, prosessi aloitetaan datan jalostamisella. Dataan valitaan sellaiset muuttujat, jotka sopivat analyysiin, normalisoidaan data ja valitaan sopiva ryppäiden lukumäärä. Sopiva määrä ryppäitä voidaan määrittää esimerkiksi niin että haetaan sellainen piste jossa ryppäiden lisäämisellä ei ole merkittävää hyötyä tarkkuudessa.\n",
        "\n",
        "**Aihemallinnus** Aihemallinnus on menetelmä luonnollisen kielen analyysiin. Tekstiaineistosta pyritään löytämään aihekokonaisuuksia, jotka toistuvat aineistossa. Tässäkin menetelmässä aineisto on ensin esikäsiteltävä. Nyt tekstimuotoinen data käsitellään siihen muotoon että sieltä on helpompi löytää yhteisiä aiheita. Luennolla käydyssä esimerkissä tekstistä poistetaan numerot, välimerkit, lyhyet sanat ja hukkasanat.\n",
        "\n",
        "Aihemallin luomiseen voidaan käyttää Gensim-kirjastoa, joka on kehitelty juuri luonnollisen kielen analyysiin. Kun mallinnus on tehty, on taas mietittävä mikä on sopiva määrä aiheita. Tässä voidaan käyttää eri lähestymistapoja ja menetelmiä, sillä 'oikean' määrän määrittäminen on tapauskohtaista ja vaatii paljon analysointia.\n",
        "\n"
      ]
    },
    {
      "cell_type": "markdown",
      "metadata": {
        "id": "0HxYzgooYNYl"
      },
      "source": [
        "- Aineiston esikäsittely ja muokkaus vaikuttaa siihen millainen analyysin lopputulos on.\n",
        "- Aineistoa on tutkittava ja etsittävä syitä miksi analyysin lopputulos on se mikä on (esim outlierit ja datamuuttujien jakauma vaikuttavat)\n",
        "- Demoluennolla käyty esimerkki pääkomponenttianalyysista (PCA) oli havainnollistava miten aineistoa voidaan kuvailla pienemmällä määrällä muuttujia.\n",
        "- Vaikka puhutaan ohjaamattomasta oppimisesta, tarvitaan silti datan esikäsittelyä ja menetelmän valintaan ihmisen päätöksentekoa.\n",
        "- Ohjaamattomassa oppimisessa algoritmi löytää luokkia ja aiheita, mutta algoritmi ei pysty nimeämään niitä.\n",
        "\n",
        "Kehityskohde: Ryvästämisestä voisi vielä kertoa lisää miten tätä analyysin tulosta voidaan käyttää hyväksi."
      ]
    },
    {
      "cell_type": "markdown",
      "metadata": {
        "id": "kf51HXaA84T4"
      },
      "source": [
        "Kokeillaan ryvästämistä Kagglesta ladatulla metsäpalodatalla, https://www.kaggle.com/vikasukani/forest-firearea-datasets."
      ]
    },
    {
      "cell_type": "code",
      "metadata": {
        "id": "OwvBDRCV85Cg"
      },
      "source": [
        "import matplotlib.pyplot as plt\n",
        "import pandas as pd\n",
        "from sklearn.cluster import KMeans"
      ],
      "execution_count": 1,
      "outputs": []
    },
    {
      "cell_type": "code",
      "metadata": {
        "id": "tNss7tsp9XqS",
        "colab": {
          "base_uri": "https://localhost:8080/"
        },
        "outputId": "e186e620-43e6-455f-95a3-e624084fef4c"
      },
      "source": [
        "df = pd.read_csv(\"forestfires.csv\")\n",
        "df.info()"
      ],
      "execution_count": 2,
      "outputs": [
        {
          "output_type": "stream",
          "text": [
            "<class 'pandas.core.frame.DataFrame'>\n",
            "RangeIndex: 517 entries, 0 to 516\n",
            "Data columns (total 13 columns):\n",
            " #   Column  Non-Null Count  Dtype  \n",
            "---  ------  --------------  -----  \n",
            " 0   X       517 non-null    int64  \n",
            " 1   Y       517 non-null    int64  \n",
            " 2   month   517 non-null    object \n",
            " 3   day     517 non-null    object \n",
            " 4   FFMC    517 non-null    float64\n",
            " 5   DMC     517 non-null    float64\n",
            " 6   DC      517 non-null    float64\n",
            " 7   ISI     517 non-null    float64\n",
            " 8   temp    517 non-null    float64\n",
            " 9   RH      517 non-null    int64  \n",
            " 10  wind    517 non-null    float64\n",
            " 11  rain    517 non-null    float64\n",
            " 12  area    517 non-null    float64\n",
            "dtypes: float64(8), int64(3), object(2)\n",
            "memory usage: 52.6+ KB\n"
          ],
          "name": "stdout"
        }
      ]
    },
    {
      "cell_type": "code",
      "metadata": {
        "id": "jcOTmgbP9qBn"
      },
      "source": [
        "#Valitaan tarkasteltavat sarakkeet\n",
        "dfcluster = df[['X','Y','temp','wind']]"
      ],
      "execution_count": 4,
      "outputs": []
    },
    {
      "cell_type": "code",
      "metadata": {
        "id": "WZxhf9Xl-kFJ",
        "colab": {
          "base_uri": "https://localhost:8080/",
          "height": 281
        },
        "outputId": "269da7ee-9eac-46d3-9b8b-fee2a3b59a8e"
      },
      "source": [
        "hist = dfcluster.hist()"
      ],
      "execution_count": 5,
      "outputs": [
        {
          "output_type": "display_data",
          "data": {
            "image/png": "[encoded data removed]",
            "text/plain": [
              "<Figure size 432x288 with 4 Axes>"
            ]
          },
          "metadata": {
            "tags": [],
            "needs_background": "light"
          }
        }
      ]
    },
    {
      "cell_type": "code",
      "metadata": {
        "id": "tiW5xHCP-5o_",
        "colab": {
          "base_uri": "https://localhost:8080/"
        },
        "outputId": "d7137521-5bdb-4ab3-b535-d2b92f5394c3"
      },
      "source": [
        "kmeans = KMeans(n_clusters=4).fit(dfcluster)\n",
        "centroids = kmeans.cluster_centers_\n",
        "print(centroids)"
      ],
      "execution_count": 17,
      "outputs": [
        {
          "output_type": "stream",
          "text": [
            "[[ 4.22613065  4.07537688 20.89547739  3.86331658]\n",
            " [ 4.95774648  4.4084507   8.72676056  4.96619718]\n",
            " [ 5.01030928  4.46391753 26.72164948  3.50515464]\n",
            " [ 4.9         4.44       15.97266667  4.10466667]]\n"
          ],
          "name": "stdout"
        }
      ]
    },
    {
      "cell_type": "markdown",
      "metadata": {
        "id": "ArA7-4pyUTHB"
      },
      "source": [
        "Katsotaan miltä klusterit näyttävät lämpötilan ja tuulen suhteen."
      ]
    },
    {
      "cell_type": "code",
      "metadata": {
        "colab": {
          "base_uri": "https://localhost:8080/",
          "height": 279
        },
        "id": "6H1eJ4FbTGVY",
        "outputId": "bbe2e17d-9476-423f-9976-01eb41f412d4"
      },
      "source": [
        "plt.scatter(df['temp'], df['wind'], c= kmeans.labels_.astype(float), s=50, alpha=0.5)\n",
        "plt.scatter(centroids[:, 2], centroids[:, 3], c='red', s=50)\n",
        "plt.xlabel('temperature')\n",
        "plt.ylabel('wind')\n",
        "plt.show()"
      ],
      "execution_count": 18,
      "outputs": [
        {
          "output_type": "display_data",
          "data": {
            "image/png": "[encoded data removed]",
            "text/plain": [
              "<Figure size 432x288 with 1 Axes>"
            ]
          },
          "metadata": {
            "tags": [],
            "needs_background": "light"
          }
        }
      ]
    },
    {
      "cell_type": "markdown",
      "metadata": {
        "id": "3iLXay3RVVYL"
      },
      "source": [
        "#Viikko 7\n",
        "Visuaalista analyysia tarvitaan niin kerätyn datan tutkimiseen ja sen hahmottamiseen (eksploratiivinen analytiikka) kuin lopullisen tuotteen havainnolliseen esittämiseen ja tiedon jakamiseen (kommunikointi). Kommunikoivan visualisoinnin tavoitteena on saada kohdekäyttäjät kiinnostumaan ja oppimaan aineistosta kiinnostavalla ja helposti ymmärettävällä tavalla. Muistilistaa joistakin visualisoinnin periaatteista:\n",
        "\n",
        ">*   Käytä hyvälaatuista dataa\n",
        "*    Jalosta dataa\n",
        "*   Huomioi datasta keskeisimmät piirteet joilla dataa kuvataan ja visualisoi ne\n",
        "*   Tee selkeitä ja tarpeeksi yksinkertaisia kuvia, jotta niitä ei voi tulkita väärin\n",
        "*   Käytä oikeanlaista visualisointityyppiä\n",
        "*   Tee käyttäjälle vuorovaikutteisia visualisointeja; huomioi kohdeyleisö\n",
        "\n",
        "\n",
        "\n",
        "\n",
        "\n",
        "Visualisointiin on erilaisia välineitä ja sovelluksia tarjolla visualisointityyppien valinnasta vuorovaikutteisten visuaalisten esitysten tekemiseen. Luennolla esiteltiin vuorovaikutteisen datasovelluksen tekoa Streamlitilla.\n",
        "\n",
        "- Huonosti tehty visualisointi johtaa helposti harhaan ja voi tuottaa vääriä päätelmiä\n",
        "- Datan liiallinen manipulointi häivyttää datan todellisen informaation\n",
        "- Mieti millaisia kuvaajia teet, mahdollisuuksia on monenlaisia\n",
        "- Vuorovaikutteisella visualisoinnilla käyttäjä pääsee lähemmin tutkimaan dataa\n",
        "- Vuorovaikutteisen visualisoinnin työkalu/sovellus datatuotteena\n"
      ]
    },
    {
      "cell_type": "markdown",
      "metadata": {
        "id": "47DJTVivJcNz"
      },
      "source": [
        "Kehitysehdotuksia:\n",
        "- Kurssin sivuilla voisi olla jonkinlainen kooste tai lukujärjestys kurssin viikkoaikatauluista ja eräpäivistä. Nyt tietoa löytyy hajanaisesti eri sivuilla. Tuni.fi opintojaksosivuilla kurssin päättymispäiväksi on merkitty 6.5. ja viimeinen demoluento olisi 7.5. kun taas todellisuudessa viimeinen luento oli 27.4. Kurssin töiden palautuspäivämääriä voisi myös kohdentaa yhteen paikkaan selkeyden vuoksi.\n",
        "- Miksihän harjoitustyön osien palautuspäivä on kesken luentoviikon? Voisiko se olla esimerkiksi loppuviikkoon mennessä? Silloin ehtisi paremmin hyödyntää myös luennoista opittua."
      ]
    }
  ]
}